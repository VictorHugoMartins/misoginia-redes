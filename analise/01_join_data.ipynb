{
  "cells": [
    {
      "cell_type": "markdown",
      "metadata": {
        "id": "view-in-github"
      },
      "source": [
        "<a href=\"https://colab.research.google.com/github/VictorHugoMartins/israel_x_palestine_data_analysis/blob/main/preprocess.ipynb\" target=\"_parent\"><img src=\"https://colab.research.google.com/assets/colab-badge.svg\" alt=\"Open In Colab\"/></a>"
      ]
    },
    {
      "cell_type": "markdown",
      "metadata": {
        "id": "5xHNQKpEwERV"
      },
      "source": [
        "# União dos Dados\n",
        "\n",
        "Este arquivo prepara os dados para as fases posteriores.\n"
      ]
    },
    {
      "cell_type": "markdown",
      "metadata": {
        "id": "f-dTbKaJDI_i"
      },
      "source": [
        "# Importação de Dados"
      ]
    },
    {
      "cell_type": "code",
      "execution_count": 49,
      "metadata": {},
      "outputs": [
        {
          "name": "stdout",
          "output_type": "stream",
          "text": [
            "2025_06_10\n"
          ]
        }
      ],
      "source": [
        "import os\n",
        "import pandas as pd\n",
        "from config import result_index\n",
        "\n",
        "with_processed_batches = False\n",
        "\n",
        "execution = 'local'\n",
        "# execution = 'cloud'\n",
        "\n",
        "base_path = f\"data\" if execution == 'local' else 'cloud'\n",
        "\n",
        "print(result_index)"
      ]
    },
    {
      "cell_type": "code",
      "execution_count": 50,
      "metadata": {},
      "outputs": [
        {
          "name": "stdout",
          "output_type": "stream",
          "text": [
            "Lote 1 salvo em: channels_csv_batches\\lote_1.csv\n",
            "Lote 1 salvo em: videos_csv_batches\\lote_1.csv\n",
            "Lote 1 salvo em: comments_csv_batches\\lote_1.csv\n",
            "Lote 2 salvo em: comments_csv_batches\\lote_2.csv\n",
            "Lote 3 salvo em: comments_csv_batches\\lote_3.csv\n",
            "Lote 4 salvo em: comments_csv_batches\\lote_4.csv\n",
            "Lote 5 salvo em: comments_csv_batches\\lote_5.csv\n",
            "Lote 6 salvo em: comments_csv_batches\\lote_6.csv\n",
            "Lote 7 salvo em: comments_csv_batches\\lote_7.csv\n",
            "Lote 8 salvo em: comments_csv_batches\\lote_8.csv\n",
            "Lote 9 salvo em: comments_csv_batches\\lote_9.csv\n",
            "Lote 10 salvo em: comments_csv_batches\\lote_10.csv\n",
            "Lote 11 salvo em: comments_csv_batches\\lote_11.csv\n",
            "Lote 12 salvo em: comments_csv_batches\\lote_12.csv\n",
            "Lote 13 salvo em: comments_csv_batches\\lote_13.csv\n",
            "Lote 14 salvo em: comments_csv_batches\\lote_14.csv\n",
            "Lote 15 salvo em: comments_csv_batches\\lote_15.csv\n",
            "Lote 16 salvo em: comments_csv_batches\\lote_16.csv\n",
            "Lote 17 salvo em: comments_csv_batches\\lote_17.csv\n",
            "Lote 18 salvo em: comments_csv_batches\\lote_18.csv\n",
            "Lote 19 salvo em: comments_csv_batches\\lote_19.csv\n",
            "Lote 20 salvo em: comments_csv_batches\\lote_20.csv\n",
            "Lote 21 salvo em: comments_csv_batches\\lote_21.csv\n",
            "Lote 22 salvo em: comments_csv_batches\\lote_22.csv\n",
            "Lote 23 salvo em: comments_csv_batches\\lote_23.csv\n",
            "Lote 24 salvo em: comments_csv_batches\\lote_24.csv\n",
            "Lote 25 salvo em: comments_csv_batches\\lote_25.csv\n",
            "Lote 26 salvo em: comments_csv_batches\\lote_26.csv\n",
            "Lote 27 salvo em: comments_csv_batches\\lote_27.csv\n",
            "Lote 28 salvo em: comments_csv_batches\\lote_28.csv\n",
            "Lote 29 salvo em: comments_csv_batches\\lote_29.csv\n",
            "Lote 30 salvo em: comments_csv_batches\\lote_30.csv\n"
          ]
        }
      ],
      "source": [
        "from utils.split_data_files import split_csv \n",
        "\n",
        "# Exemplo de uso para canais\n",
        "csv_file = '../files/channels_info.csv'  # Caminho para o arquivo CSV original\n",
        "output_dir = 'channels_csv_batches'  # Diretório onde os arquivos divididos serão salvos\n",
        "split_csv(csv_file, output_dir, id_column='channel_id', date_column='published_at')\n",
        "\n",
        "# Exemplo de uso para vídeos\n",
        "csv_file = '../files/videos_info.csv'  # Caminho para o arquivo CSV original\n",
        "output_dir = 'videos_csv_batches'  # Diretório onde os arquivos divididos serão salvos\n",
        "split_csv(csv_file, output_dir, id_column='video_id', date_column='published_at')\n",
        "\n",
        "# Exemplo de uso para comentários\n",
        "csv_file = '../files/comments_info.csv'  # Caminho para o arquivo CSV original\n",
        "output_dir = 'comments_csv_batches'  # Diretório onde os arquivos divididos serão salvos\n",
        "split_csv(csv_file, output_dir, id_column='comment_id', date_column='published_at')"
      ]
    },
    {
      "cell_type": "code",
      "execution_count": 51,
      "metadata": {},
      "outputs": [
        {
          "name": "stdout",
          "output_type": "stream",
          "text": [
            "Lidos 1 arquivos CSV da pasta data\\videos_csv_batches\n"
          ]
        }
      ],
      "source": [
        "def read_batches_from_dir(directory):\n",
        "    all_files = [os.path.join(directory, f) for f in os.listdir(directory) if f.endswith('.csv')]\n",
        "    df_list = []\n",
        "\n",
        "    # Lê cada arquivo e adiciona ao df_list, verificando se o arquivo não está vazio\n",
        "    for file in all_files:\n",
        "        # Verifica se o arquivo não está vazio antes de tentar ler\n",
        "        if os.path.getsize(file) > 0:\n",
        "            try:\n",
        "                df = pd.read_csv(file)\n",
        "                if df.empty:\n",
        "                    print(f\"Aviso: O arquivo {file} está vazio. Pulando.\")\n",
        "                    continue\n",
        "                df_list.append(df)\n",
        "            except pd.errors.EmptyDataError:\n",
        "                print(f\"Aviso: O arquivo {file} não contém dados válidos. Pulando.\")\n",
        "                continue\n",
        "        else:\n",
        "            print(f\"Aviso: O arquivo {file} está vazio. Pulando.\")\n",
        "\n",
        "    if df_list:  # Verifica se existe pelo menos um DataFrame para concatenar\n",
        "        final_df = pd.concat(df_list, ignore_index=True)\n",
        "    else:\n",
        "        final_df = pd.DataFrame()  # Retorna um DataFrame vazio se não houver dados\n",
        "\n",
        "    # Imprime a quantidade de arquivos lidos para o diretório\n",
        "    print(f\"Lidos {len(df_list)} arquivos CSV da pasta {directory}\")\n",
        "\n",
        "    return final_df\n",
        "\n",
        "def import_data(base_path):\n",
        "    # Diretórios contendo os arquivos CSV de comentários, vídeos e canais\n",
        "    videos_dir = os.path.join(base_path, f'videos_csv_batches')\n",
        "    # news_dir = os.path.join(base_path, f'news_batches')\n",
        "    # scrap_news_dir = os.path.join(base_path, f'scrap_news_batches')\n",
        "\n",
        "    # Ler todos os arquivos CSV dos diretórios\n",
        "    df_videos = read_batches_from_dir(videos_dir)\n",
        "\n",
        "    return df_videos #, df_scrap_news\n",
        "\n",
        "df_videos = import_data(base_path)"
      ]
    },
    {
      "cell_type": "markdown",
      "metadata": {},
      "source": [
        "## Normalização de colunas"
      ]
    },
    {
      "cell_type": "code",
      "execution_count": 52,
      "metadata": {},
      "outputs": [],
      "source": [
        "def remove_unnamed_columns(df):\n",
        "    \"\"\"Remove colunas cujo nome contém 'Unnamed'.\"\"\"\n",
        "    return df.loc[:, ~df.columns.str.contains('Unnamed', case=False)]\n",
        "\n",
        "# Exemplo de uso:\n",
        "df_videos = remove_unnamed_columns(df_videos)"
      ]
    },
    {
      "cell_type": "code",
      "execution_count": 53,
      "metadata": {},
      "outputs": [
        {
          "data": {
            "text/plain": [
              "Index(['video_id', 'title', 'description', 'channel_id', 'published_at',\n",
              "       'category_id', 'tags', 'view_count', 'like_count', 'comment_count',\n",
              "       'duration', 'definition', 'caption', 'licensed_content',\n",
              "       'privacy_status', 'license', 'embeddable', 'public_stats_viewable',\n",
              "       'is_made_for_kids', 'thumbnail_url', 'default_audio_language',\n",
              "       'default_language', 'actual_start_time', 'scheduled_start_time',\n",
              "       'actual_end_time', 'scheduled_end_time', 'concurrent_viewers',\n",
              "       'active_live_chat_id', 'recording_date', 'topicCategories',\n",
              "       'processing_status', 'parts_total', 'parts_processed', 'time_left_ms',\n",
              "       'processing_failure_reason'],\n",
              "      dtype='object')"
            ]
          },
          "execution_count": 53,
          "metadata": {},
          "output_type": "execute_result"
        }
      ],
      "source": [
        "df_videos.columns"
      ]
    },
    {
      "cell_type": "code",
      "execution_count": 54,
      "metadata": {},
      "outputs": [
        {
          "name": "stdout",
          "output_type": "stream",
          "text": [
            "<class 'pandas.core.frame.DataFrame'>\n",
            "RangeIndex: 488 entries, 0 to 487\n",
            "Data columns (total 35 columns):\n",
            " #   Column                     Non-Null Count  Dtype  \n",
            "---  ------                     --------------  -----  \n",
            " 0   video_id                   488 non-null    object \n",
            " 1   title                      488 non-null    object \n",
            " 2   description                447 non-null    object \n",
            " 3   channel_id                 488 non-null    object \n",
            " 4   published_at               488 non-null    object \n",
            " 5   category_id                488 non-null    int64  \n",
            " 6   tags                       488 non-null    object \n",
            " 7   view_count                 488 non-null    int64  \n",
            " 8   like_count                 488 non-null    int64  \n",
            " 9   comment_count              488 non-null    int64  \n",
            " 10  duration                   488 non-null    object \n",
            " 11  definition                 488 non-null    object \n",
            " 12  caption                    488 non-null    bool   \n",
            " 13  licensed_content           488 non-null    bool   \n",
            " 14  privacy_status             488 non-null    object \n",
            " 15  license                    488 non-null    object \n",
            " 16  embeddable                 488 non-null    bool   \n",
            " 17  public_stats_viewable      488 non-null    bool   \n",
            " 18  is_made_for_kids           488 non-null    bool   \n",
            " 19  thumbnail_url              488 non-null    object \n",
            " 20  default_audio_language     378 non-null    object \n",
            " 21  default_language           113 non-null    object \n",
            " 22  actual_start_time          40 non-null     object \n",
            " 23  scheduled_start_time       40 non-null     object \n",
            " 24  actual_end_time            40 non-null     object \n",
            " 25  scheduled_end_time         0 non-null      float64\n",
            " 26  concurrent_viewers         488 non-null    int64  \n",
            " 27  active_live_chat_id        0 non-null      float64\n",
            " 28  recording_date             46 non-null     object \n",
            " 29  topicCategories            488 non-null    object \n",
            " 30  processing_status          0 non-null      float64\n",
            " 31  parts_total                488 non-null    int64  \n",
            " 32  parts_processed            488 non-null    int64  \n",
            " 33  time_left_ms               488 non-null    int64  \n",
            " 34  processing_failure_reason  0 non-null      float64\n",
            "dtypes: bool(5), float64(4), int64(8), object(18)\n",
            "memory usage: 116.9+ KB\n"
          ]
        }
      ],
      "source": [
        "df_videos.info()"
      ]
    },
    {
      "cell_type": "markdown",
      "metadata": {},
      "source": [
        "## Remoção de duplicatas"
      ]
    },
    {
      "cell_type": "code",
      "execution_count": 55,
      "metadata": {},
      "outputs": [],
      "source": [
        "df_videos = df_videos.dropna(subset=[\"video_id\", \"published_at\", \"channel_id\", \"title\"])"
      ]
    },
    {
      "cell_type": "code",
      "execution_count": 56,
      "metadata": {},
      "outputs": [],
      "source": [
        "# Função para remover duplicatas e manter os registros mais recentes.\n",
        "def remove_duplicates(df, id_column, date_column):\n",
        "    # Ordena por data de forma decrescente e remove duplicatas mantendo o mais recente\n",
        "    df_sorted = df.sort_values(by=date_column, ascending=False)\n",
        "    df_unique = df_sorted.drop_duplicates(subset=id_column, keep='first')\n",
        "    return df_unique\n",
        "\n",
        "df_videos = remove_duplicates(df_videos, \"video_id\", 'published_at')"
      ]
    },
    {
      "cell_type": "code",
      "execution_count": 57,
      "metadata": {},
      "outputs": [
        {
          "name": "stdout",
          "output_type": "stream",
          "text": [
            "488 videos\n",
            "10 canais\n"
          ]
        }
      ],
      "source": [
        "print(f\"{len(df_videos)} videos\")\n",
        "\n",
        "authors_videos = df_videos['channel_id'].unique()\n",
        "print(f\"{len(authors_videos)} canais\")"
      ]
    },
    {
      "cell_type": "markdown",
      "metadata": {},
      "source": [
        "## Tratamento de Vídeos"
      ]
    },
    {
      "cell_type": "markdown",
      "metadata": {},
      "source": [
        "### Filtro por Palavras Chave"
      ]
    },
    {
      "cell_type": "code",
      "execution_count": 58,
      "metadata": {},
      "outputs": [],
      "source": [
        "from config import key_words\n",
        "\n",
        "def filter_by_keyword(df_videos, key_words, column):\n",
        "    # Normaliza a lista de palavras-chave para evitar problemas com maiúsculas/minúsculas\n",
        "    key_words_lower = [kw.lower() for kw in key_words]\n",
        "\n",
        "    # Tamanho inicial do DataFrame de vídeos\n",
        "    print(\"Número de dados antes do filtro:\", len(df_videos))\n",
        "\n",
        "    # Preenche valores NaN na coluna column com string vazia\n",
        "    df_videos[column] = df_videos[column].fillna('')\n",
        "\n",
        "    # Filtra o DataFrame de dados\n",
        "    filtered_videos = df_videos[\n",
        "        df_videos[column].str.lower().str.contains('|'.join(key_words_lower))\n",
        "    ]\n",
        "\n",
        "    # Tamanho depois do filtro\n",
        "    print(\"Número de dados após o filtro:\", len(filtered_videos))\n",
        "\n",
        "    return filtered_videos\n",
        "\n",
        "def show_no_filters_by_keyword(df, key_words, column):\n",
        "    # Normaliza a lista de palavras-chave para evitar problemas com maiúsculas/minúsculas\n",
        "    key_words_lower = [kw.lower() for kw in key_words]\n",
        "\n",
        "    # Tamanho inicial do DataFrame de vídeos\n",
        "    print(\"Número de dados antes do filtro:\", len(df))\n",
        "\n",
        "    # Preenche valores NaN na coluna column com string vazia\n",
        "    df[column] = df[column].fillna('')\n",
        "\n",
        "    # Filtra o DataFrame de dados\n",
        "    filtered_videos = df[\n",
        "        df[column].str.lower().str.contains('|'.join(key_words_lower)) == False\n",
        "    ]\n",
        "\n",
        "    print(filtered_videos[column].unique().tolist())"
      ]
    },
    {
      "cell_type": "code",
      "execution_count": 59,
      "metadata": {},
      "outputs": [
        {
          "data": {
            "text/plain": [
              "Index(['video_id', 'title', 'description', 'channel_id', 'published_at',\n",
              "       'category_id', 'tags', 'view_count', 'like_count', 'comment_count',\n",
              "       'duration', 'definition', 'caption', 'licensed_content',\n",
              "       'privacy_status', 'license', 'embeddable', 'public_stats_viewable',\n",
              "       'is_made_for_kids', 'thumbnail_url', 'default_audio_language',\n",
              "       'default_language', 'actual_start_time', 'scheduled_start_time',\n",
              "       'actual_end_time', 'scheduled_end_time', 'concurrent_viewers',\n",
              "       'active_live_chat_id', 'recording_date', 'topicCategories',\n",
              "       'processing_status', 'parts_total', 'parts_processed', 'time_left_ms',\n",
              "       'processing_failure_reason'],\n",
              "      dtype='object')"
            ]
          },
          "execution_count": 59,
          "metadata": {},
          "output_type": "execute_result"
        }
      ],
      "source": [
        "df_videos.columns"
      ]
    },
    {
      "cell_type": "code",
      "execution_count": 60,
      "metadata": {},
      "outputs": [
        {
          "name": "stdout",
          "output_type": "stream",
          "text": [
            "Número de dados antes do filtro: 488\n",
            "[]\n"
          ]
        }
      ],
      "source": [
        "show_no_filters_by_keyword(df_videos, key_words, 'title')"
      ]
    },
    {
      "cell_type": "code",
      "execution_count": 61,
      "metadata": {},
      "outputs": [
        {
          "name": "stdout",
          "output_type": "stream",
          "text": [
            "Número de dados antes do filtro: 488\n",
            "Número de dados após o filtro: 488\n"
          ]
        }
      ],
      "source": [
        "# Chama a função para filtrar os titulos\n",
        "df_videos = filter_by_keyword(df_videos, key_words, 'title')"
      ]
    },
    {
      "cell_type": "code",
      "execution_count": 62,
      "metadata": {},
      "outputs": [
        {
          "name": "stdout",
          "output_type": "stream",
          "text": [
            "488 vídeos\n"
          ]
        }
      ],
      "source": [
        "print(f\"{len(df_videos)} vídeos\")"
      ]
    },
    {
      "cell_type": "markdown",
      "metadata": {},
      "source": [
        "### Exibição dos dados processados"
      ]
    },
    {
      "cell_type": "code",
      "execution_count": 63,
      "metadata": {},
      "outputs": [],
      "source": [
        "import pandas as pd\n",
        "\n",
        "# Converter ambas as colunas para datetime\n",
        "df_videos['published_at'] = pd.to_datetime(df_videos['published_at'])\n",
        "\n",
        "# Remover timezone de df_videos (se necessário)\n",
        "df_videos['published_at'] = df_videos['published_at'].dt.tz_localize(None)"
      ]
    },
    {
      "cell_type": "code",
      "execution_count": 64,
      "metadata": {},
      "outputs": [
        {
          "data": {
            "text/html": [
              "<div>\n",
              "<style scoped>\n",
              "    .dataframe tbody tr th:only-of-type {\n",
              "        vertical-align: middle;\n",
              "    }\n",
              "\n",
              "    .dataframe tbody tr th {\n",
              "        vertical-align: top;\n",
              "    }\n",
              "\n",
              "    .dataframe thead th {\n",
              "        text-align: right;\n",
              "    }\n",
              "</style>\n",
              "<table border=\"1\" class=\"dataframe\">\n",
              "  <thead>\n",
              "    <tr style=\"text-align: right;\">\n",
              "      <th></th>\n",
              "      <th>video_id</th>\n",
              "      <th>title</th>\n",
              "      <th>description</th>\n",
              "      <th>channel_id</th>\n",
              "      <th>published_at</th>\n",
              "      <th>category_id</th>\n",
              "      <th>tags</th>\n",
              "      <th>view_count</th>\n",
              "      <th>like_count</th>\n",
              "      <th>comment_count</th>\n",
              "      <th>...</th>\n",
              "      <th>scheduled_end_time</th>\n",
              "      <th>concurrent_viewers</th>\n",
              "      <th>active_live_chat_id</th>\n",
              "      <th>recording_date</th>\n",
              "      <th>topicCategories</th>\n",
              "      <th>processing_status</th>\n",
              "      <th>parts_total</th>\n",
              "      <th>parts_processed</th>\n",
              "      <th>time_left_ms</th>\n",
              "      <th>processing_failure_reason</th>\n",
              "    </tr>\n",
              "  </thead>\n",
              "  <tbody>\n",
              "    <tr>\n",
              "      <th>80</th>\n",
              "      <td>9U9Rq6_B5Ts</td>\n",
              "      <td>Sinais que ela vai te colocar na cadeia! | Qua...</td>\n",
              "      <td>#rafaelaires #antiotario #redpillbrasil\\n\\n🔥 P...</td>\n",
              "      <td>UCAYoI16-UkXemcnhC-kTvDQ</td>\n",
              "      <td>2025-05-26 15:00:25</td>\n",
              "      <td>22</td>\n",
              "      <td>[]</td>\n",
              "      <td>37994</td>\n",
              "      <td>3074</td>\n",
              "      <td>70</td>\n",
              "      <td>...</td>\n",
              "      <td>NaN</td>\n",
              "      <td>0</td>\n",
              "      <td>NaN</td>\n",
              "      <td>NaN</td>\n",
              "      <td>['https://en.wikipedia.org/wiki/Health']</td>\n",
              "      <td>NaN</td>\n",
              "      <td>0</td>\n",
              "      <td>0</td>\n",
              "      <td>0</td>\n",
              "      <td>NaN</td>\n",
              "    </tr>\n",
              "    <tr>\n",
              "      <th>273</th>\n",
              "      <td>HAD8kPMPIKk</td>\n",
              "      <td>MULHER FALA SOBRE QUANDO ELAS DÃO DINHEIRO PAR...</td>\n",
              "      <td>seja bem vindo a mais um vídeo do canal Não se...</td>\n",
              "      <td>UCUBeVY6Kn7ulBmUGynJqISw</td>\n",
              "      <td>2025-05-14 01:26:11</td>\n",
              "      <td>24</td>\n",
              "      <td>['redpill', 'msol', 'miqueinha', 'relacionamen...</td>\n",
              "      <td>899</td>\n",
              "      <td>19</td>\n",
              "      <td>6</td>\n",
              "      <td>...</td>\n",
              "      <td>NaN</td>\n",
              "      <td>0</td>\n",
              "      <td>NaN</td>\n",
              "      <td>NaN</td>\n",
              "      <td>['https://en.wikipedia.org/wiki/Humour']</td>\n",
              "      <td>NaN</td>\n",
              "      <td>0</td>\n",
              "      <td>0</td>\n",
              "      <td>0</td>\n",
              "      <td>NaN</td>\n",
              "    </tr>\n",
              "    <tr>\n",
              "      <th>323</th>\n",
              "      <td>8XXvXtAb_cI</td>\n",
              "      <td>Mulher não treina com Personal Homem! Concorda...</td>\n",
              "      <td>#rafaelaires #antiotario #redpillbrasil\\n\\n🔥 P...</td>\n",
              "      <td>UCAYoI16-UkXemcnhC-kTvDQ</td>\n",
              "      <td>2025-05-10 12:00:13</td>\n",
              "      <td>22</td>\n",
              "      <td>[]</td>\n",
              "      <td>217</td>\n",
              "      <td>39</td>\n",
              "      <td>2</td>\n",
              "      <td>...</td>\n",
              "      <td>NaN</td>\n",
              "      <td>0</td>\n",
              "      <td>NaN</td>\n",
              "      <td>NaN</td>\n",
              "      <td>[]</td>\n",
              "      <td>NaN</td>\n",
              "      <td>0</td>\n",
              "      <td>0</td>\n",
              "      <td>0</td>\n",
              "      <td>NaN</td>\n",
              "    </tr>\n",
              "    <tr>\n",
              "      <th>159</th>\n",
              "      <td>1xp1Qyouad0</td>\n",
              "      <td>4 Palavras Que Fazem Qualquer Homem Ficar Obce...</td>\n",
              "      <td>GRUPO TELEGRAM👇\\nhttps://bit.ly/CanalRedpillfe...</td>\n",
              "      <td>UCO9FRrBUwGdYopkMbGGKbpg</td>\n",
              "      <td>2025-05-21 01:00:06</td>\n",
              "      <td>27</td>\n",
              "      <td>['homem emocionalmente indisponível', 'como li...</td>\n",
              "      <td>540</td>\n",
              "      <td>0</td>\n",
              "      <td>3</td>\n",
              "      <td>...</td>\n",
              "      <td>NaN</td>\n",
              "      <td>0</td>\n",
              "      <td>NaN</td>\n",
              "      <td>2025-05-20T00:00:00Z</td>\n",
              "      <td>[]</td>\n",
              "      <td>NaN</td>\n",
              "      <td>0</td>\n",
              "      <td>0</td>\n",
              "      <td>0</td>\n",
              "      <td>NaN</td>\n",
              "    </tr>\n",
              "    <tr>\n",
              "      <th>479</th>\n",
              "      <td>3Bm0sozWI7c</td>\n",
              "      <td>O que realmente faz um homem se apaixonar (não...</td>\n",
              "      <td>GRUPO TELEGRAM👇\\nhttps://bit.ly/CanalRedpillfe...</td>\n",
              "      <td>UCO9FRrBUwGdYopkMbGGKbpg</td>\n",
              "      <td>2025-05-01 21:00:03</td>\n",
              "      <td>27</td>\n",
              "      <td>['psicologia masculina', 'como fazer um homem ...</td>\n",
              "      <td>589</td>\n",
              "      <td>57</td>\n",
              "      <td>3</td>\n",
              "      <td>...</td>\n",
              "      <td>NaN</td>\n",
              "      <td>0</td>\n",
              "      <td>NaN</td>\n",
              "      <td>2025-05-01T00:00:00Z</td>\n",
              "      <td>['https://en.wikipedia.org/wiki/Lifestyle_(soc...</td>\n",
              "      <td>NaN</td>\n",
              "      <td>0</td>\n",
              "      <td>0</td>\n",
              "      <td>0</td>\n",
              "      <td>NaN</td>\n",
              "    </tr>\n",
              "  </tbody>\n",
              "</table>\n",
              "<p>5 rows × 35 columns</p>\n",
              "</div>"
            ],
            "text/plain": [
              "        video_id                                              title  \\\n",
              "80   9U9Rq6_B5Ts  Sinais que ela vai te colocar na cadeia! | Qua...   \n",
              "273  HAD8kPMPIKk  MULHER FALA SOBRE QUANDO ELAS DÃO DINHEIRO PAR...   \n",
              "323  8XXvXtAb_cI  Mulher não treina com Personal Homem! Concorda...   \n",
              "159  1xp1Qyouad0  4 Palavras Que Fazem Qualquer Homem Ficar Obce...   \n",
              "479  3Bm0sozWI7c  O que realmente faz um homem se apaixonar (não...   \n",
              "\n",
              "                                           description  \\\n",
              "80   #rafaelaires #antiotario #redpillbrasil\\n\\n🔥 P...   \n",
              "273  seja bem vindo a mais um vídeo do canal Não se...   \n",
              "323  #rafaelaires #antiotario #redpillbrasil\\n\\n🔥 P...   \n",
              "159  GRUPO TELEGRAM👇\\nhttps://bit.ly/CanalRedpillfe...   \n",
              "479  GRUPO TELEGRAM👇\\nhttps://bit.ly/CanalRedpillfe...   \n",
              "\n",
              "                   channel_id        published_at  category_id  \\\n",
              "80   UCAYoI16-UkXemcnhC-kTvDQ 2025-05-26 15:00:25           22   \n",
              "273  UCUBeVY6Kn7ulBmUGynJqISw 2025-05-14 01:26:11           24   \n",
              "323  UCAYoI16-UkXemcnhC-kTvDQ 2025-05-10 12:00:13           22   \n",
              "159  UCO9FRrBUwGdYopkMbGGKbpg 2025-05-21 01:00:06           27   \n",
              "479  UCO9FRrBUwGdYopkMbGGKbpg 2025-05-01 21:00:03           27   \n",
              "\n",
              "                                                  tags  view_count  \\\n",
              "80                                                  []       37994   \n",
              "273  ['redpill', 'msol', 'miqueinha', 'relacionamen...         899   \n",
              "323                                                 []         217   \n",
              "159  ['homem emocionalmente indisponível', 'como li...         540   \n",
              "479  ['psicologia masculina', 'como fazer um homem ...         589   \n",
              "\n",
              "     like_count  comment_count  ... scheduled_end_time concurrent_viewers  \\\n",
              "80         3074             70  ...                NaN                  0   \n",
              "273          19              6  ...                NaN                  0   \n",
              "323          39              2  ...                NaN                  0   \n",
              "159           0              3  ...                NaN                  0   \n",
              "479          57              3  ...                NaN                  0   \n",
              "\n",
              "     active_live_chat_id        recording_date  \\\n",
              "80                   NaN                   NaN   \n",
              "273                  NaN                   NaN   \n",
              "323                  NaN                   NaN   \n",
              "159                  NaN  2025-05-20T00:00:00Z   \n",
              "479                  NaN  2025-05-01T00:00:00Z   \n",
              "\n",
              "                                       topicCategories processing_status  \\\n",
              "80            ['https://en.wikipedia.org/wiki/Health']               NaN   \n",
              "273           ['https://en.wikipedia.org/wiki/Humour']               NaN   \n",
              "323                                                 []               NaN   \n",
              "159                                                 []               NaN   \n",
              "479  ['https://en.wikipedia.org/wiki/Lifestyle_(soc...               NaN   \n",
              "\n",
              "     parts_total  parts_processed  time_left_ms processing_failure_reason  \n",
              "80             0                0             0                       NaN  \n",
              "273            0                0             0                       NaN  \n",
              "323            0                0             0                       NaN  \n",
              "159            0                0             0                       NaN  \n",
              "479            0                0             0                       NaN  \n",
              "\n",
              "[5 rows x 35 columns]"
            ]
          },
          "execution_count": 64,
          "metadata": {},
          "output_type": "execute_result"
        }
      ],
      "source": [
        "df_videos.sample(n=5)"
      ]
    },
    {
      "cell_type": "code",
      "execution_count": 65,
      "metadata": {},
      "outputs": [
        {
          "name": "stdout",
          "output_type": "stream",
          "text": [
            "488 videos\n"
          ]
        }
      ],
      "source": [
        "print(f\"{len(df_videos)} videos\")"
      ]
    },
    {
      "cell_type": "code",
      "execution_count": 66,
      "metadata": {},
      "outputs": [
        {
          "name": "stdout",
          "output_type": "stream",
          "text": [
            "Index(['video_id', 'title', 'description', 'channel_id', 'published_at',\n",
            "       'category_id', 'tags', 'view_count', 'like_count', 'comment_count',\n",
            "       'duration', 'definition', 'caption', 'licensed_content',\n",
            "       'privacy_status', 'license', 'embeddable', 'public_stats_viewable',\n",
            "       'is_made_for_kids', 'thumbnail_url', 'default_audio_language',\n",
            "       'default_language', 'actual_start_time', 'scheduled_start_time',\n",
            "       'actual_end_time', 'scheduled_end_time', 'concurrent_viewers',\n",
            "       'active_live_chat_id', 'recording_date', 'topicCategories',\n",
            "       'processing_status', 'parts_total', 'parts_processed', 'time_left_ms',\n",
            "       'processing_failure_reason'],\n",
            "      dtype='object')\n"
          ]
        }
      ],
      "source": [
        "print(df_videos.columns)"
      ]
    },
    {
      "cell_type": "code",
      "execution_count": 67,
      "metadata": {},
      "outputs": [],
      "source": [
        "unified_data = pd.concat([df_videos], ignore_index=True)"
      ]
    },
    {
      "cell_type": "code",
      "execution_count": 68,
      "metadata": {},
      "outputs": [
        {
          "name": "stdout",
          "output_type": "stream",
          "text": [
            "488  videos\n",
            "sum: 488\n"
          ]
        }
      ],
      "source": [
        "print(len(df_videos), \" videos\")\n",
        "print(\"sum:\", len(unified_data))"
      ]
    },
    {
      "cell_type": "code",
      "execution_count": 69,
      "metadata": {},
      "outputs": [],
      "source": [
        "processed_data_dir = f\"processed_data_{result_index}\"\n",
        "os.makedirs(processed_data_dir, exist_ok=True)  # Cria o diretório se não existir\n",
        "\n",
        "results_data_dir = f'results_{result_index}'\n",
        "os.makedirs(results_data_dir, exist_ok=True)  # Cria o diretório se não existir"
      ]
    },
    {
      "cell_type": "code",
      "execution_count": null,
      "metadata": {},
      "outputs": [],
      "source": [
        "unified_data = pd.concat([df_videos], ignore_index=True)\n",
        "\n",
        "df_videos.to_csv(f\"{processed_data_dir}/videos.csv\", index=False)"
      ]
    }
  ],
  "metadata": {
    "colab": {
      "collapsed_sections": [
        "N7BPfFNqyO7Y",
        "zog_6t6ipTvc",
        "1bGe5VUJU8Sp",
        "3aJrG65eEUcY",
        "7pkjogdgQPHU",
        "9s1aCXxA73EF"
      ],
      "provenance": []
    },
    "kernelspec": {
      "display_name": "Python 3",
      "name": "python3"
    },
    "language_info": {
      "codemirror_mode": {
        "name": "ipython",
        "version": 3
      },
      "file_extension": ".py",
      "mimetype": "text/x-python",
      "name": "python",
      "nbconvert_exporter": "python",
      "pygments_lexer": "ipython3",
      "version": "3.11.9"
    }
  },
  "nbformat": 4,
  "nbformat_minor": 0
}
