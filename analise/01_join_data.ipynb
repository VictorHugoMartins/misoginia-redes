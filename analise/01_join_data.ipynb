{
  "cells": [
    {
      "cell_type": "markdown",
      "metadata": {
        "id": "view-in-github"
      },
      "source": [
        "<a href=\"https://colab.research.google.com/github/VictorHugoMartins/israel_x_palestine_data_analysis/blob/main/preprocess.ipynb\" target=\"_parent\"><img src=\"https://colab.research.google.com/assets/colab-badge.svg\" alt=\"Open In Colab\"/></a>"
      ]
    },
    {
      "cell_type": "markdown",
      "metadata": {
        "id": "5xHNQKpEwERV"
      },
      "source": [
        "# União dos Dados\n",
        "\n",
        "Este arquivo prepara os dados para as fases posteriores.\n"
      ]
    },
    {
      "cell_type": "markdown",
      "metadata": {
        "id": "f-dTbKaJDI_i"
      },
      "source": [
        "# Importação de Dados"
      ]
    },
    {
      "cell_type": "code",
      "execution_count": 2,
      "metadata": {},
      "outputs": [
        {
          "name": "stdout",
          "output_type": "stream",
          "text": [
            "2025_06_10\n"
          ]
        }
      ],
      "source": [
        "import os\n",
        "import pandas as pd\n",
        "from config import result_index\n",
        "\n",
        "with_processed_batches = False\n",
        "\n",
        "execution = 'local'\n",
        "# execution = 'cloud'\n",
        "\n",
        "base_path = f\"data\" if execution == 'local' else 'cloud'\n",
        "\n",
        "print(result_index)"
      ]
    },
    {
      "cell_type": "code",
      "execution_count": 3,
      "metadata": {},
      "outputs": [
        {
          "name": "stdout",
          "output_type": "stream",
          "text": [
            "Lote 1 salvo em: channels_csv_batches\\lote_1.csv\n",
            "Lote 1 salvo em: videos_csv_batches\\lote_1.csv\n",
            "Lote 1 salvo em: comments_csv_batches\\lote_1.csv\n",
            "Lote 2 salvo em: comments_csv_batches\\lote_2.csv\n",
            "Lote 3 salvo em: comments_csv_batches\\lote_3.csv\n",
            "Lote 4 salvo em: comments_csv_batches\\lote_4.csv\n",
            "Lote 5 salvo em: comments_csv_batches\\lote_5.csv\n",
            "Lote 6 salvo em: comments_csv_batches\\lote_6.csv\n",
            "Lote 7 salvo em: comments_csv_batches\\lote_7.csv\n"
          ]
        }
      ],
      "source": [
        "from utils.split_data_files import split_csv \n",
        "\n",
        "# Exemplo de uso para canais\n",
        "csv_file = '../files/channels_info.csv'  # Caminho para o arquivo CSV original\n",
        "output_dir = 'channels_csv_batches'  # Diretório onde os arquivos divididos serão salvos\n",
        "split_csv(csv_file, output_dir, id_column='channel_id', date_column='published_at')\n",
        "\n",
        "# Exemplo de uso para vídeos\n",
        "csv_file = '../files/videos_info.csv'  # Caminho para o arquivo CSV original\n",
        "output_dir = 'videos_csv_batches'  # Diretório onde os arquivos divididos serão salvos\n",
        "split_csv(csv_file, output_dir, id_column='video_id', date_column='published_at')\n",
        "\n",
        "# Exemplo de uso para comentários\n",
        "csv_file = '../files/comments_info.csv'  # Caminho para o arquivo CSV original\n",
        "output_dir = 'comments_csv_batches'  # Diretório onde os arquivos divididos serão salvos\n",
        "split_csv(csv_file, output_dir, id_column='comment_id', date_column='published_at')"
      ]
    },
    {
      "cell_type": "code",
      "execution_count": 8,
      "metadata": {},
      "outputs": [
        {
          "name": "stdout",
          "output_type": "stream",
          "text": [
            "Lidos 1 arquivos CSV da pasta data\\videos_csv_batches\n"
          ]
        }
      ],
      "source": [
        "def read_batches_from_dir(directory):\n",
        "    all_files = [os.path.join(directory, f) for f in os.listdir(directory) if f.endswith('.csv')]\n",
        "    df_list = []\n",
        "\n",
        "    # Lê cada arquivo e adiciona ao df_list, verificando se o arquivo não está vazio\n",
        "    for file in all_files:\n",
        "        # Verifica se o arquivo não está vazio antes de tentar ler\n",
        "        if os.path.getsize(file) > 0:\n",
        "            try:\n",
        "                df = pd.read_csv(file)\n",
        "                if df.empty:\n",
        "                    print(f\"Aviso: O arquivo {file} está vazio. Pulando.\")\n",
        "                    continue\n",
        "                df_list.append(df)\n",
        "            except pd.errors.EmptyDataError:\n",
        "                print(f\"Aviso: O arquivo {file} não contém dados válidos. Pulando.\")\n",
        "                continue\n",
        "        else:\n",
        "            print(f\"Aviso: O arquivo {file} está vazio. Pulando.\")\n",
        "\n",
        "    if df_list:  # Verifica se existe pelo menos um DataFrame para concatenar\n",
        "        final_df = pd.concat(df_list, ignore_index=True)\n",
        "    else:\n",
        "        final_df = pd.DataFrame()  # Retorna um DataFrame vazio se não houver dados\n",
        "\n",
        "    # Imprime a quantidade de arquivos lidos para o diretório\n",
        "    print(f\"Lidos {len(df_list)} arquivos CSV da pasta {directory}\")\n",
        "\n",
        "    return final_df\n",
        "\n",
        "def import_data(base_path):\n",
        "    # Diretórios contendo os arquivos CSV de comentários, vídeos e canais\n",
        "    videos_dir = os.path.join(base_path, f'videos_csv_batches')\n",
        "    # news_dir = os.path.join(base_path, f'news_batches')\n",
        "    # scrap_news_dir = os.path.join(base_path, f'scrap_news_batches')\n",
        "\n",
        "    # Ler todos os arquivos CSV dos diretórios\n",
        "    df_videos = read_batches_from_dir(videos_dir)\n",
        "\n",
        "    return df_videos #, df_scrap_news\n",
        "\n",
        "df_videos = import_data(base_path)"
      ]
    },
    {
      "cell_type": "markdown",
      "metadata": {},
      "source": [
        "## Normalização de colunas"
      ]
    },
    {
      "cell_type": "code",
      "execution_count": 9,
      "metadata": {},
      "outputs": [],
      "source": [
        "def remove_unnamed_columns(df):\n",
        "    \"\"\"Remove colunas cujo nome contém 'Unnamed'.\"\"\"\n",
        "    return df.loc[:, ~df.columns.str.contains('Unnamed', case=False)]\n",
        "\n",
        "# Exemplo de uso:\n",
        "df_videos = remove_unnamed_columns(df_videos)"
      ]
    },
    {
      "cell_type": "code",
      "execution_count": 10,
      "metadata": {},
      "outputs": [
        {
          "data": {
            "text/plain": [
              "Index(['video_id', 'title', 'description', 'channel_id', 'published_at',\n",
              "       'category_id', 'tags', 'view_count', 'like_count', 'comment_count',\n",
              "       'duration', 'definition', 'caption', 'licensed_content',\n",
              "       'privacy_status', 'license', 'embeddable', 'public_stats_viewable',\n",
              "       'is_made_for_kids', 'thumbnail_url', 'default_audio_language',\n",
              "       'default_language', 'actual_start_time', 'scheduled_start_time',\n",
              "       'actual_end_time', 'scheduled_end_time', 'concurrent_viewers',\n",
              "       'active_live_chat_id', 'recording_date', 'topicCategories',\n",
              "       'processing_status', 'parts_total', 'parts_processed', 'time_left_ms',\n",
              "       'processing_failure_reason'],\n",
              "      dtype='object')"
            ]
          },
          "execution_count": 10,
          "metadata": {},
          "output_type": "execute_result"
        }
      ],
      "source": [
        "df_videos.columns"
      ]
    },
    {
      "cell_type": "code",
      "execution_count": 12,
      "metadata": {},
      "outputs": [
        {
          "name": "stdout",
          "output_type": "stream",
          "text": [
            "<class 'pandas.core.frame.DataFrame'>\n",
            "RangeIndex: 488 entries, 0 to 487\n",
            "Data columns (total 35 columns):\n",
            " #   Column                     Non-Null Count  Dtype  \n",
            "---  ------                     --------------  -----  \n",
            " 0   video_id                   488 non-null    object \n",
            " 1   title                      488 non-null    object \n",
            " 2   description                447 non-null    object \n",
            " 3   channel_id                 488 non-null    object \n",
            " 4   published_at               488 non-null    object \n",
            " 5   category_id                488 non-null    int64  \n",
            " 6   tags                       488 non-null    object \n",
            " 7   view_count                 488 non-null    int64  \n",
            " 8   like_count                 488 non-null    int64  \n",
            " 9   comment_count              488 non-null    int64  \n",
            " 10  duration                   488 non-null    object \n",
            " 11  definition                 488 non-null    object \n",
            " 12  caption                    488 non-null    bool   \n",
            " 13  licensed_content           488 non-null    bool   \n",
            " 14  privacy_status             488 non-null    object \n",
            " 15  license                    488 non-null    object \n",
            " 16  embeddable                 488 non-null    bool   \n",
            " 17  public_stats_viewable      488 non-null    bool   \n",
            " 18  is_made_for_kids           488 non-null    bool   \n",
            " 19  thumbnail_url              488 non-null    object \n",
            " 20  default_audio_language     378 non-null    object \n",
            " 21  default_language           113 non-null    object \n",
            " 22  actual_start_time          40 non-null     object \n",
            " 23  scheduled_start_time       40 non-null     object \n",
            " 24  actual_end_time            40 non-null     object \n",
            " 25  scheduled_end_time         0 non-null      float64\n",
            " 26  concurrent_viewers         488 non-null    int64  \n",
            " 27  active_live_chat_id        0 non-null      float64\n",
            " 28  recording_date             46 non-null     object \n",
            " 29  topicCategories            488 non-null    object \n",
            " 30  processing_status          0 non-null      float64\n",
            " 31  parts_total                488 non-null    int64  \n",
            " 32  parts_processed            488 non-null    int64  \n",
            " 33  time_left_ms               488 non-null    int64  \n",
            " 34  processing_failure_reason  0 non-null      float64\n",
            "dtypes: bool(5), float64(4), int64(8), object(18)\n",
            "memory usage: 116.9+ KB\n"
          ]
        }
      ],
      "source": [
        "df_videos.info()"
      ]
    },
    {
      "cell_type": "markdown",
      "metadata": {},
      "source": [
        "## Remoção de duplicatas"
      ]
    },
    {
      "cell_type": "code",
      "execution_count": 15,
      "metadata": {},
      "outputs": [],
      "source": [
        "df_videos = df_videos.dropna(subset=[\"video_id\", \"published_at\", \"channel_id\", \"title\"])"
      ]
    },
    {
      "cell_type": "code",
      "execution_count": 17,
      "metadata": {},
      "outputs": [],
      "source": [
        "# Função para remover duplicatas e manter os registros mais recentes.\n",
        "def remove_duplicates(df, id_column, date_column):\n",
        "    # Ordena por data de forma decrescente e remove duplicatas mantendo o mais recente\n",
        "    df_sorted = df.sort_values(by=date_column, ascending=False)\n",
        "    df_unique = df_sorted.drop_duplicates(subset=id_column, keep='first')\n",
        "    return df_unique\n",
        "\n",
        "df_videos = remove_duplicates(df_videos, \"video_id\", 'published_at')"
      ]
    },
    {
      "cell_type": "code",
      "execution_count": 35,
      "metadata": {},
      "outputs": [
        {
          "name": "stdout",
          "output_type": "stream",
          "text": [
            "488 videos\n",
            "10 canais\n"
          ]
        }
      ],
      "source": [
        "print(f\"{len(df_videos)} videos\")\n",
        "\n",
        "authors_videos = df_videos['channel_id'].unique()\n",
        "print(f\"{len(authors_videos)} canais\")"
      ]
    },
    {
      "cell_type": "markdown",
      "metadata": {},
      "source": [
        "## Tratamento de Vídeos"
      ]
    },
    {
      "cell_type": "markdown",
      "metadata": {},
      "source": [
        "### Filtro por Palavras Chave"
      ]
    },
    {
      "cell_type": "code",
      "execution_count": 36,
      "metadata": {},
      "outputs": [],
      "source": [
        "from config import key_words\n",
        "\n",
        "def filter_by_keyword(df_videos, key_words, column):\n",
        "    # Normaliza a lista de palavras-chave para evitar problemas com maiúsculas/minúsculas\n",
        "    key_words_lower = [kw.lower() for kw in key_words]\n",
        "\n",
        "    # Tamanho inicial do DataFrame de vídeos\n",
        "    print(\"Número de dados antes do filtro:\", len(df_videos))\n",
        "\n",
        "    # Preenche valores NaN na coluna column com string vazia\n",
        "    df_videos[column] = df_videos[column].fillna('')\n",
        "\n",
        "    # Filtra o DataFrame de dados\n",
        "    filtered_videos = df_videos[\n",
        "        df_videos[column].str.lower().str.contains('|'.join(key_words_lower))\n",
        "    ]\n",
        "\n",
        "    # Tamanho depois do filtro\n",
        "    print(\"Número de dados após o filtro:\", len(filtered_videos))\n",
        "\n",
        "    return filtered_videos\n",
        "\n",
        "def show_no_filters_by_keyword(df, key_words, column):\n",
        "    # Normaliza a lista de palavras-chave para evitar problemas com maiúsculas/minúsculas\n",
        "    key_words_lower = [kw.lower() for kw in key_words]\n",
        "\n",
        "    # Tamanho inicial do DataFrame de vídeos\n",
        "    print(\"Número de dados antes do filtro:\", len(df))\n",
        "\n",
        "    # Preenche valores NaN na coluna column com string vazia\n",
        "    df[column] = df[column].fillna('')\n",
        "\n",
        "    # Filtra o DataFrame de dados\n",
        "    filtered_videos = df[\n",
        "        df[column].str.lower().str.contains('|'.join(key_words_lower)) == False\n",
        "    ]\n",
        "\n",
        "    print(filtered_videos[column].unique().tolist())"
      ]
    },
    {
      "cell_type": "code",
      "execution_count": 37,
      "metadata": {},
      "outputs": [
        {
          "data": {
            "text/plain": [
              "Index(['video_id', 'title', 'description', 'channel_id', 'published_at',\n",
              "       'category_id', 'tags', 'view_count', 'like_count', 'comment_count',\n",
              "       'duration', 'definition', 'caption', 'licensed_content',\n",
              "       'privacy_status', 'license', 'embeddable', 'public_stats_viewable',\n",
              "       'is_made_for_kids', 'thumbnail_url', 'default_audio_language',\n",
              "       'default_language', 'actual_start_time', 'scheduled_start_time',\n",
              "       'actual_end_time', 'scheduled_end_time', 'concurrent_viewers',\n",
              "       'active_live_chat_id', 'recording_date', 'topicCategories',\n",
              "       'processing_status', 'parts_total', 'parts_processed', 'time_left_ms',\n",
              "       'processing_failure_reason'],\n",
              "      dtype='object')"
            ]
          },
          "execution_count": 37,
          "metadata": {},
          "output_type": "execute_result"
        }
      ],
      "source": [
        "df_videos.columns"
      ]
    },
    {
      "cell_type": "code",
      "execution_count": 38,
      "metadata": {},
      "outputs": [
        {
          "name": "stdout",
          "output_type": "stream",
          "text": [
            "Número de dados antes do filtro: 488\n",
            "[]\n"
          ]
        }
      ],
      "source": [
        "show_no_filters_by_keyword(df_videos, key_words, 'title')"
      ]
    },
    {
      "cell_type": "code",
      "execution_count": 39,
      "metadata": {},
      "outputs": [
        {
          "name": "stdout",
          "output_type": "stream",
          "text": [
            "Número de dados antes do filtro: 488\n",
            "Número de dados após o filtro: 488\n"
          ]
        }
      ],
      "source": [
        "# Chama a função para filtrar os titulos\n",
        "df_videos = filter_by_keyword(df_videos, key_words, 'title')"
      ]
    },
    {
      "cell_type": "code",
      "execution_count": 40,
      "metadata": {},
      "outputs": [
        {
          "name": "stdout",
          "output_type": "stream",
          "text": [
            "488 vídeos\n"
          ]
        }
      ],
      "source": [
        "print(f\"{len(df_videos)} vídeos\")"
      ]
    },
    {
      "cell_type": "markdown",
      "metadata": {},
      "source": [
        "### Exibição dos dados processados"
      ]
    },
    {
      "cell_type": "code",
      "execution_count": 41,
      "metadata": {},
      "outputs": [],
      "source": [
        "import pandas as pd\n",
        "\n",
        "# Converter ambas as colunas para datetime\n",
        "df_videos['published_at'] = pd.to_datetime(df_videos['published_at'])\n",
        "\n",
        "# Remover timezone de df_videos (se necessário)\n",
        "df_videos['published_at'] = df_videos['published_at'].dt.tz_localize(None)"
      ]
    },
    {
      "cell_type": "code",
      "execution_count": 42,
      "metadata": {},
      "outputs": [
        {
          "data": {
            "text/html": [
              "<div>\n",
              "<style scoped>\n",
              "    .dataframe tbody tr th:only-of-type {\n",
              "        vertical-align: middle;\n",
              "    }\n",
              "\n",
              "    .dataframe tbody tr th {\n",
              "        vertical-align: top;\n",
              "    }\n",
              "\n",
              "    .dataframe thead th {\n",
              "        text-align: right;\n",
              "    }\n",
              "</style>\n",
              "<table border=\"1\" class=\"dataframe\">\n",
              "  <thead>\n",
              "    <tr style=\"text-align: right;\">\n",
              "      <th></th>\n",
              "      <th>video_id</th>\n",
              "      <th>title</th>\n",
              "      <th>description</th>\n",
              "      <th>channel_id</th>\n",
              "      <th>published_at</th>\n",
              "      <th>category_id</th>\n",
              "      <th>tags</th>\n",
              "      <th>view_count</th>\n",
              "      <th>like_count</th>\n",
              "      <th>comment_count</th>\n",
              "      <th>...</th>\n",
              "      <th>scheduled_end_time</th>\n",
              "      <th>concurrent_viewers</th>\n",
              "      <th>active_live_chat_id</th>\n",
              "      <th>recording_date</th>\n",
              "      <th>topicCategories</th>\n",
              "      <th>processing_status</th>\n",
              "      <th>parts_total</th>\n",
              "      <th>parts_processed</th>\n",
              "      <th>time_left_ms</th>\n",
              "      <th>processing_failure_reason</th>\n",
              "    </tr>\n",
              "  </thead>\n",
              "  <tbody>\n",
              "    <tr>\n",
              "      <th>92</th>\n",
              "      <td>84XBTbDc4-g</td>\n",
              "      <td>Rapaz leva flores e amiga da namorada debocha....</td>\n",
              "      <td>#rafaelaires #antiotario #redpillbrasil\\n\\n🔥 P...</td>\n",
              "      <td>UCAYoI16-UkXemcnhC-kTvDQ</td>\n",
              "      <td>2025-05-25 15:00:22</td>\n",
              "      <td>22</td>\n",
              "      <td>[]</td>\n",
              "      <td>172</td>\n",
              "      <td>27</td>\n",
              "      <td>2</td>\n",
              "      <td>...</td>\n",
              "      <td>NaN</td>\n",
              "      <td>0</td>\n",
              "      <td>NaN</td>\n",
              "      <td>NaN</td>\n",
              "      <td>['https://en.wikipedia.org/wiki/Society']</td>\n",
              "      <td>NaN</td>\n",
              "      <td>0</td>\n",
              "      <td>0</td>\n",
              "      <td>0</td>\n",
              "      <td>NaN</td>\n",
              "    </tr>\n",
              "    <tr>\n",
              "      <th>478</th>\n",
              "      <td>Slm_luYYCzU</td>\n",
              "      <td>Pagar a conta no primeiro encontro não é genti...</td>\n",
              "      <td>#rafaelaires #antiotario #redpillbrasil\\n\\n🔥 P...</td>\n",
              "      <td>UCAYoI16-UkXemcnhC-kTvDQ</td>\n",
              "      <td>2025-05-01 21:00:34</td>\n",
              "      <td>22</td>\n",
              "      <td>[]</td>\n",
              "      <td>45821</td>\n",
              "      <td>2325</td>\n",
              "      <td>79</td>\n",
              "      <td>...</td>\n",
              "      <td>NaN</td>\n",
              "      <td>0</td>\n",
              "      <td>NaN</td>\n",
              "      <td>NaN</td>\n",
              "      <td>['https://en.wikipedia.org/wiki/Lifestyle_(soc...</td>\n",
              "      <td>NaN</td>\n",
              "      <td>0</td>\n",
              "      <td>0</td>\n",
              "      <td>0</td>\n",
              "      <td>NaN</td>\n",
              "    </tr>\n",
              "    <tr>\n",
              "      <th>162</th>\n",
              "      <td>WGMKEYLMKDs</td>\n",
              "      <td>Se 1 parafuso fura 10 paredes nada muda, se um...</td>\n",
              "      <td>#rafaelaires #antiotario #redpillbrasil\\n\\n🔥 P...</td>\n",
              "      <td>UCAYoI16-UkXemcnhC-kTvDQ</td>\n",
              "      <td>2025-05-20 21:00:28</td>\n",
              "      <td>22</td>\n",
              "      <td>[]</td>\n",
              "      <td>7734</td>\n",
              "      <td>457</td>\n",
              "      <td>21</td>\n",
              "      <td>...</td>\n",
              "      <td>NaN</td>\n",
              "      <td>0</td>\n",
              "      <td>NaN</td>\n",
              "      <td>NaN</td>\n",
              "      <td>['https://en.wikipedia.org/wiki/Lifestyle_(soc...</td>\n",
              "      <td>NaN</td>\n",
              "      <td>0</td>\n",
              "      <td>0</td>\n",
              "      <td>0</td>\n",
              "      <td>NaN</td>\n",
              "    </tr>\n",
              "    <tr>\n",
              "      <th>261</th>\n",
              "      <td>5KChAfouiHo</td>\n",
              "      <td>Quer segunda chance depois de trair? Ainda que...</td>\n",
              "      <td>#rafaelaires #antiotario #redpillbrasil\\n\\n🔥 P...</td>\n",
              "      <td>UCAYoI16-UkXemcnhC-kTvDQ</td>\n",
              "      <td>2025-05-14 21:00:10</td>\n",
              "      <td>22</td>\n",
              "      <td>[]</td>\n",
              "      <td>308</td>\n",
              "      <td>26</td>\n",
              "      <td>4</td>\n",
              "      <td>...</td>\n",
              "      <td>NaN</td>\n",
              "      <td>0</td>\n",
              "      <td>NaN</td>\n",
              "      <td>NaN</td>\n",
              "      <td>[]</td>\n",
              "      <td>NaN</td>\n",
              "      <td>0</td>\n",
              "      <td>0</td>\n",
              "      <td>0</td>\n",
              "      <td>NaN</td>\n",
              "    </tr>\n",
              "    <tr>\n",
              "      <th>293</th>\n",
              "      <td>GVyDca7MDxk</td>\n",
              "      <td>ONDE ESTÃO OS HOMENS HÉTEROS?</td>\n",
              "      <td>💪 Use o cupom (CONSELHO) na Growth: https://ww...</td>\n",
              "      <td>UCX0VSzJ2z5l0C9wnwh5SoRw</td>\n",
              "      <td>2025-05-12 21:30:02</td>\n",
              "      <td>26</td>\n",
              "      <td>[]</td>\n",
              "      <td>19444</td>\n",
              "      <td>2725</td>\n",
              "      <td>149</td>\n",
              "      <td>...</td>\n",
              "      <td>NaN</td>\n",
              "      <td>0</td>\n",
              "      <td>NaN</td>\n",
              "      <td>NaN</td>\n",
              "      <td>['https://en.wikipedia.org/wiki/Society']</td>\n",
              "      <td>NaN</td>\n",
              "      <td>0</td>\n",
              "      <td>0</td>\n",
              "      <td>0</td>\n",
              "      <td>NaN</td>\n",
              "    </tr>\n",
              "  </tbody>\n",
              "</table>\n",
              "<p>5 rows × 35 columns</p>\n",
              "</div>"
            ],
            "text/plain": [
              "        video_id                                              title  \\\n",
              "92   84XBTbDc4-g  Rapaz leva flores e amiga da namorada debocha....   \n",
              "478  Slm_luYYCzU  Pagar a conta no primeiro encontro não é genti...   \n",
              "162  WGMKEYLMKDs  Se 1 parafuso fura 10 paredes nada muda, se um...   \n",
              "261  5KChAfouiHo  Quer segunda chance depois de trair? Ainda que...   \n",
              "293  GVyDca7MDxk                      ONDE ESTÃO OS HOMENS HÉTEROS?   \n",
              "\n",
              "                                           description  \\\n",
              "92   #rafaelaires #antiotario #redpillbrasil\\n\\n🔥 P...   \n",
              "478  #rafaelaires #antiotario #redpillbrasil\\n\\n🔥 P...   \n",
              "162  #rafaelaires #antiotario #redpillbrasil\\n\\n🔥 P...   \n",
              "261  #rafaelaires #antiotario #redpillbrasil\\n\\n🔥 P...   \n",
              "293  💪 Use o cupom (CONSELHO) na Growth: https://ww...   \n",
              "\n",
              "                   channel_id        published_at  category_id tags  \\\n",
              "92   UCAYoI16-UkXemcnhC-kTvDQ 2025-05-25 15:00:22           22   []   \n",
              "478  UCAYoI16-UkXemcnhC-kTvDQ 2025-05-01 21:00:34           22   []   \n",
              "162  UCAYoI16-UkXemcnhC-kTvDQ 2025-05-20 21:00:28           22   []   \n",
              "261  UCAYoI16-UkXemcnhC-kTvDQ 2025-05-14 21:00:10           22   []   \n",
              "293  UCX0VSzJ2z5l0C9wnwh5SoRw 2025-05-12 21:30:02           26   []   \n",
              "\n",
              "     view_count  like_count  comment_count  ... scheduled_end_time  \\\n",
              "92          172          27              2  ...                NaN   \n",
              "478       45821        2325             79  ...                NaN   \n",
              "162        7734         457             21  ...                NaN   \n",
              "261         308          26              4  ...                NaN   \n",
              "293       19444        2725            149  ...                NaN   \n",
              "\n",
              "    concurrent_viewers  active_live_chat_id  recording_date  \\\n",
              "92                   0                  NaN             NaN   \n",
              "478                  0                  NaN             NaN   \n",
              "162                  0                  NaN             NaN   \n",
              "261                  0                  NaN             NaN   \n",
              "293                  0                  NaN             NaN   \n",
              "\n",
              "                                       topicCategories processing_status  \\\n",
              "92           ['https://en.wikipedia.org/wiki/Society']               NaN   \n",
              "478  ['https://en.wikipedia.org/wiki/Lifestyle_(soc...               NaN   \n",
              "162  ['https://en.wikipedia.org/wiki/Lifestyle_(soc...               NaN   \n",
              "261                                                 []               NaN   \n",
              "293          ['https://en.wikipedia.org/wiki/Society']               NaN   \n",
              "\n",
              "     parts_total  parts_processed  time_left_ms processing_failure_reason  \n",
              "92             0                0             0                       NaN  \n",
              "478            0                0             0                       NaN  \n",
              "162            0                0             0                       NaN  \n",
              "261            0                0             0                       NaN  \n",
              "293            0                0             0                       NaN  \n",
              "\n",
              "[5 rows x 35 columns]"
            ]
          },
          "execution_count": 42,
          "metadata": {},
          "output_type": "execute_result"
        }
      ],
      "source": [
        "df_videos.sample(n=5)"
      ]
    },
    {
      "cell_type": "code",
      "execution_count": 43,
      "metadata": {},
      "outputs": [
        {
          "name": "stdout",
          "output_type": "stream",
          "text": [
            "488 videos\n"
          ]
        }
      ],
      "source": [
        "print(f\"{len(df_videos)} videos\")"
      ]
    },
    {
      "cell_type": "code",
      "execution_count": 44,
      "metadata": {},
      "outputs": [
        {
          "name": "stdout",
          "output_type": "stream",
          "text": [
            "Index(['video_id', 'title', 'description', 'channel_id', 'published_at',\n",
            "       'category_id', 'tags', 'view_count', 'like_count', 'comment_count',\n",
            "       'duration', 'definition', 'caption', 'licensed_content',\n",
            "       'privacy_status', 'license', 'embeddable', 'public_stats_viewable',\n",
            "       'is_made_for_kids', 'thumbnail_url', 'default_audio_language',\n",
            "       'default_language', 'actual_start_time', 'scheduled_start_time',\n",
            "       'actual_end_time', 'scheduled_end_time', 'concurrent_viewers',\n",
            "       'active_live_chat_id', 'recording_date', 'topicCategories',\n",
            "       'processing_status', 'parts_total', 'parts_processed', 'time_left_ms',\n",
            "       'processing_failure_reason'],\n",
            "      dtype='object')\n"
          ]
        }
      ],
      "source": [
        "print(df_videos.columns)"
      ]
    },
    {
      "cell_type": "code",
      "execution_count": 45,
      "metadata": {},
      "outputs": [],
      "source": [
        "unified_data = pd.concat([df_videos], ignore_index=True)"
      ]
    },
    {
      "cell_type": "code",
      "execution_count": 46,
      "metadata": {},
      "outputs": [
        {
          "name": "stdout",
          "output_type": "stream",
          "text": [
            "488  videos\n",
            "sum: 488\n"
          ]
        }
      ],
      "source": [
        "print(len(df_videos), \" videos\")\n",
        "print(\"sum:\", len(unified_data))"
      ]
    },
    {
      "cell_type": "code",
      "execution_count": 47,
      "metadata": {},
      "outputs": [],
      "source": [
        "processed_data_dir = f\"processed_data_{result_index}\"\n",
        "os.makedirs(processed_data_dir, exist_ok=True)  # Cria o diretório se não existir\n",
        "\n",
        "results_data_dir = f'results_{result_index}'\n",
        "os.makedirs(results_data_dir, exist_ok=True)  # Cria o diretório se não existir"
      ]
    },
    {
      "cell_type": "code",
      "execution_count": 48,
      "metadata": {},
      "outputs": [],
      "source": [
        "unified_data = pd.concat([df_videos], ignore_index=True)\n",
        "\n",
        "df_videos.to_csv(f\"{processed_data_dir}/videos.csv\", index=False)"
      ]
    }
  ],
  "metadata": {
    "colab": {
      "collapsed_sections": [
        "N7BPfFNqyO7Y",
        "zog_6t6ipTvc",
        "1bGe5VUJU8Sp",
        "3aJrG65eEUcY",
        "7pkjogdgQPHU",
        "9s1aCXxA73EF"
      ],
      "provenance": []
    },
    "kernelspec": {
      "display_name": "Python 3",
      "name": "python3"
    },
    "language_info": {
      "codemirror_mode": {
        "name": "ipython",
        "version": 3
      },
      "file_extension": ".py",
      "mimetype": "text/x-python",
      "name": "python",
      "nbconvert_exporter": "python",
      "pygments_lexer": "ipython3",
      "version": "3.11.9"
    }
  },
  "nbformat": 4,
  "nbformat_minor": 0
}
