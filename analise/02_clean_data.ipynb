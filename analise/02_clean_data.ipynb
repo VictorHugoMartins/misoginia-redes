{
  "cells": [
    {
      "cell_type": "markdown",
      "metadata": {
        "id": "view-in-github"
      },
      "source": [
        "<a href=\"https://colab.research.google.com/github/VictorHugoMartins/israel_x_palestine_data_analysis/blob/main/preprocess.ipynb\" target=\"_parent\"><img src=\"https://colab.research.google.com/assets/colab-badge.svg\" alt=\"Open In Colab\"/></a>"
      ]
    },
    {
      "cell_type": "markdown",
      "metadata": {
        "id": "I6GcCTN_sVBv"
      },
      "source": [
        "# Limpeza de Comentários\n",
        "\n",
        "Redução do vocabulário dos comentários coletados. Vídeos e Canais não passam por esse processo por não serem o foco da pesquisa e servirem como bases auxiliares para o percurso principal."
      ]
    },
    {
      "cell_type": "code",
      "execution_count": 39,
      "metadata": {},
      "outputs": [],
      "source": [
        "from config import result_index\n",
        "\n",
        "execution = 'local'\n",
        "# execution = 'cloud'\n",
        "\n",
        "base_path = 'data' if execution == 'local' else 'cloud'"
      ]
    },
    {
      "cell_type": "code",
      "execution_count": 40,
      "metadata": {},
      "outputs": [
        {
          "name": "stdout",
          "output_type": "stream",
          "text": [
            "qtd videos: 935\n"
          ]
        }
      ],
      "source": [
        "import pandas as pd\n",
        "import os\n",
        "from glob import glob\n",
        "\n",
        "# Diretórios\n",
        "videos_dir = f\"processed_data_{result_index}\"\n",
        "\n",
        "# Função para ler e concatenar todos os CSVs de um diretório\n",
        "def load_csvs_from_directory(directory):\n",
        "    all_files = glob(os.path.join(directory, \"*.csv\"))  # Lista todos os arquivos CSV\n",
        "    df_list = [pd.read_csv(file) for file in all_files]  # Lê cada CSV e adiciona à lista\n",
        "    return pd.concat(df_list, ignore_index=True) if df_list else pd.DataFrame()  # Concatena todos os DataFrames\n",
        "\n",
        "# Carregar os DataFrames completos\n",
        "df_videos = load_csvs_from_directory(videos_dir)\n",
        "\n",
        "# Exibir quantidades filtradas\n",
        "print(f\"qtd videos: {len(df_videos)}\")"
      ]
    },
    {
      "cell_type": "code",
      "execution_count": 41,
      "metadata": {},
      "outputs": [
        {
          "data": {
            "text/html": [
              "<div>\n",
              "<style scoped>\n",
              "    .dataframe tbody tr th:only-of-type {\n",
              "        vertical-align: middle;\n",
              "    }\n",
              "\n",
              "    .dataframe tbody tr th {\n",
              "        vertical-align: top;\n",
              "    }\n",
              "\n",
              "    .dataframe thead th {\n",
              "        text-align: right;\n",
              "    }\n",
              "</style>\n",
              "<table border=\"1\" class=\"dataframe\">\n",
              "  <thead>\n",
              "    <tr style=\"text-align: right;\">\n",
              "      <th></th>\n",
              "      <th>Unnamed: 0.1</th>\n",
              "      <th>Unnamed: 0</th>\n",
              "      <th>video_id</th>\n",
              "      <th>title</th>\n",
              "      <th>description</th>\n",
              "      <th>channel_id</th>\n",
              "      <th>published_at</th>\n",
              "      <th>category_id</th>\n",
              "      <th>tags</th>\n",
              "      <th>view_count</th>\n",
              "      <th>...</th>\n",
              "      <th>concurrent_viewers</th>\n",
              "      <th>active_live_chat_id</th>\n",
              "      <th>recording_date</th>\n",
              "      <th>topicCategories</th>\n",
              "      <th>processing_status</th>\n",
              "      <th>parts_total</th>\n",
              "      <th>parts_processed</th>\n",
              "      <th>time_left_ms</th>\n",
              "      <th>processing_failure_reason</th>\n",
              "      <th>text</th>\n",
              "    </tr>\n",
              "  </thead>\n",
              "  <tbody>\n",
              "    <tr>\n",
              "      <th>602</th>\n",
              "      <td>NaN</td>\n",
              "      <td>NaN</td>\n",
              "      <td>rJ4VBKnYPqU</td>\n",
              "      <td>A Mulher de valor vai multiplicar o que recebe...</td>\n",
              "      <td>#rafaelaires #antiotario #redpillbrasil\\n\\n🔥 P...</td>\n",
              "      <td>UCAYoI16-UkXemcnhC-kTvDQ</td>\n",
              "      <td>2025-05-21 12:01:40</td>\n",
              "      <td>22</td>\n",
              "      <td>[]</td>\n",
              "      <td>21472</td>\n",
              "      <td>...</td>\n",
              "      <td>0</td>\n",
              "      <td>NaN</td>\n",
              "      <td>NaN</td>\n",
              "      <td>[]</td>\n",
              "      <td>NaN</td>\n",
              "      <td>0</td>\n",
              "      <td>0</td>\n",
              "      <td>0</td>\n",
              "      <td>NaN</td>\n",
              "      <td>NaN</td>\n",
              "    </tr>\n",
              "    <tr>\n",
              "      <th>587</th>\n",
              "      <td>NaN</td>\n",
              "      <td>NaN</td>\n",
              "      <td>aUz37VXcMv4</td>\n",
              "      <td>A verdadeira amizade resiste ao tempo... Quand...</td>\n",
              "      <td>#rafaelaires #antiotario #redpillbrasil\\n\\n🔥 P...</td>\n",
              "      <td>UCAYoI16-UkXemcnhC-kTvDQ</td>\n",
              "      <td>2025-05-22 15:00:04</td>\n",
              "      <td>22</td>\n",
              "      <td>[]</td>\n",
              "      <td>11385</td>\n",
              "      <td>...</td>\n",
              "      <td>0</td>\n",
              "      <td>NaN</td>\n",
              "      <td>NaN</td>\n",
              "      <td>[]</td>\n",
              "      <td>NaN</td>\n",
              "      <td>0</td>\n",
              "      <td>0</td>\n",
              "      <td>0</td>\n",
              "      <td>NaN</td>\n",
              "      <td>NaN</td>\n",
              "    </tr>\n",
              "    <tr>\n",
              "      <th>288</th>\n",
              "      <td>288.0</td>\n",
              "      <td>319.0</td>\n",
              "      <td>0uNW4Fcwf-4</td>\n",
              "      <td>Maturidade não é sobre aceitar qualquer coisa ...</td>\n",
              "      <td>#rafaelaires #antiotario #redpillbrasil\\n\\n🔥 P...</td>\n",
              "      <td>UCAYoI16-UkXemcnhC-kTvDQ</td>\n",
              "      <td>2025-05-10 15:00:03</td>\n",
              "      <td>22</td>\n",
              "      <td>[]</td>\n",
              "      <td>280225</td>\n",
              "      <td>...</td>\n",
              "      <td>0</td>\n",
              "      <td>NaN</td>\n",
              "      <td>NaN</td>\n",
              "      <td>['https://en.wikipedia.org/wiki/Lifestyle_(soc...</td>\n",
              "      <td>NaN</td>\n",
              "      <td>0</td>\n",
              "      <td>0</td>\n",
              "      <td>0</td>\n",
              "      <td>NaN</td>\n",
              "      <td>maturidade não é sobre aceitar qualquer coisa ...</td>\n",
              "    </tr>\n",
              "    <tr>\n",
              "      <th>842</th>\n",
              "      <td>NaN</td>\n",
              "      <td>NaN</td>\n",
              "      <td>VkLD95HYg4M</td>\n",
              "      <td>O LADO SOMBRIO DO SHOW DA LADY GAGA! - part. E...</td>\n",
              "      <td>O LADO SOMBRIO DO SHOW DA LADY GAGA! - part. E...</td>\n",
              "      <td>UCeL1a4rpEA8UG9IQIewPccg</td>\n",
              "      <td>2025-05-06 03:03:11</td>\n",
              "      <td>22</td>\n",
              "      <td>['podcast', 'entrevista', 'lady gaga', 'show',...</td>\n",
              "      <td>41144</td>\n",
              "      <td>...</td>\n",
              "      <td>0</td>\n",
              "      <td>NaN</td>\n",
              "      <td>NaN</td>\n",
              "      <td>['https://en.wikipedia.org/wiki/Entertainment']</td>\n",
              "      <td>NaN</td>\n",
              "      <td>0</td>\n",
              "      <td>0</td>\n",
              "      <td>0</td>\n",
              "      <td>NaN</td>\n",
              "      <td>NaN</td>\n",
              "    </tr>\n",
              "    <tr>\n",
              "      <th>651</th>\n",
              "      <td>NaN</td>\n",
              "      <td>NaN</td>\n",
              "      <td>Gqas4ZUno0k</td>\n",
              "      <td>AS REDES SOCIAIS SÃO REMÉDIOS TARJA PRETA PARA...</td>\n",
              "      <td>Neste vídeo pretendi deixar de lado as várias ...</td>\n",
              "      <td>UC3nQ4xUl6rodOWuQbBULyow</td>\n",
              "      <td>2025-05-18 00:39:57</td>\n",
              "      <td>24</td>\n",
              "      <td>['don sandro', 'entretenimento', 'baladas']</td>\n",
              "      <td>9342</td>\n",
              "      <td>...</td>\n",
              "      <td>0</td>\n",
              "      <td>NaN</td>\n",
              "      <td>NaN</td>\n",
              "      <td>[]</td>\n",
              "      <td>NaN</td>\n",
              "      <td>0</td>\n",
              "      <td>0</td>\n",
              "      <td>0</td>\n",
              "      <td>NaN</td>\n",
              "      <td>NaN</td>\n",
              "    </tr>\n",
              "  </tbody>\n",
              "</table>\n",
              "<p>5 rows × 38 columns</p>\n",
              "</div>"
            ],
            "text/plain": [
              "     Unnamed: 0.1  Unnamed: 0     video_id  \\\n",
              "602           NaN         NaN  rJ4VBKnYPqU   \n",
              "587           NaN         NaN  aUz37VXcMv4   \n",
              "288         288.0       319.0  0uNW4Fcwf-4   \n",
              "842           NaN         NaN  VkLD95HYg4M   \n",
              "651           NaN         NaN  Gqas4ZUno0k   \n",
              "\n",
              "                                                 title  \\\n",
              "602  A Mulher de valor vai multiplicar o que recebe...   \n",
              "587  A verdadeira amizade resiste ao tempo... Quand...   \n",
              "288  Maturidade não é sobre aceitar qualquer coisa ...   \n",
              "842  O LADO SOMBRIO DO SHOW DA LADY GAGA! - part. E...   \n",
              "651  AS REDES SOCIAIS SÃO REMÉDIOS TARJA PRETA PARA...   \n",
              "\n",
              "                                           description  \\\n",
              "602  #rafaelaires #antiotario #redpillbrasil\\n\\n🔥 P...   \n",
              "587  #rafaelaires #antiotario #redpillbrasil\\n\\n🔥 P...   \n",
              "288  #rafaelaires #antiotario #redpillbrasil\\n\\n🔥 P...   \n",
              "842  O LADO SOMBRIO DO SHOW DA LADY GAGA! - part. E...   \n",
              "651  Neste vídeo pretendi deixar de lado as várias ...   \n",
              "\n",
              "                   channel_id         published_at  category_id  \\\n",
              "602  UCAYoI16-UkXemcnhC-kTvDQ  2025-05-21 12:01:40           22   \n",
              "587  UCAYoI16-UkXemcnhC-kTvDQ  2025-05-22 15:00:04           22   \n",
              "288  UCAYoI16-UkXemcnhC-kTvDQ  2025-05-10 15:00:03           22   \n",
              "842  UCeL1a4rpEA8UG9IQIewPccg  2025-05-06 03:03:11           22   \n",
              "651  UC3nQ4xUl6rodOWuQbBULyow  2025-05-18 00:39:57           24   \n",
              "\n",
              "                                                  tags  view_count  ...  \\\n",
              "602                                                 []       21472  ...   \n",
              "587                                                 []       11385  ...   \n",
              "288                                                 []      280225  ...   \n",
              "842  ['podcast', 'entrevista', 'lady gaga', 'show',...       41144  ...   \n",
              "651        ['don sandro', 'entretenimento', 'baladas']        9342  ...   \n",
              "\n",
              "     concurrent_viewers  active_live_chat_id recording_date  \\\n",
              "602                   0                  NaN            NaN   \n",
              "587                   0                  NaN            NaN   \n",
              "288                   0                  NaN            NaN   \n",
              "842                   0                  NaN            NaN   \n",
              "651                   0                  NaN            NaN   \n",
              "\n",
              "                                       topicCategories  processing_status  \\\n",
              "602                                                 []                NaN   \n",
              "587                                                 []                NaN   \n",
              "288  ['https://en.wikipedia.org/wiki/Lifestyle_(soc...                NaN   \n",
              "842    ['https://en.wikipedia.org/wiki/Entertainment']                NaN   \n",
              "651                                                 []                NaN   \n",
              "\n",
              "     parts_total parts_processed time_left_ms  processing_failure_reason  \\\n",
              "602            0               0            0                        NaN   \n",
              "587            0               0            0                        NaN   \n",
              "288            0               0            0                        NaN   \n",
              "842            0               0            0                        NaN   \n",
              "651            0               0            0                        NaN   \n",
              "\n",
              "                                                  text  \n",
              "602                                                NaN  \n",
              "587                                                NaN  \n",
              "288  maturidade não é sobre aceitar qualquer coisa ...  \n",
              "842                                                NaN  \n",
              "651                                                NaN  \n",
              "\n",
              "[5 rows x 38 columns]"
            ]
          },
          "execution_count": 41,
          "metadata": {},
          "output_type": "execute_result"
        }
      ],
      "source": [
        "unified_data = pd.concat([df_videos], ignore_index=True)\n",
        "unified_data.sample(5)"
      ]
    },
    {
      "cell_type": "code",
      "execution_count": 42,
      "metadata": {
        "id": "Bzpj5q85UXzf"
      },
      "outputs": [],
      "source": [
        "# Função para remover duplicatas e manter os registros mais recentes.\n",
        "def remove_duplicates(df, id_column, date_column):\n",
        "    # Ordena por data de forma decrescente e remove duplicatas mantendo o mais recente\n",
        "    df_sorted = df.sort_values(by=date_column, ascending=False)\n",
        "    df_unique = df_sorted.drop_duplicates(subset=id_column, keep='first')\n",
        "    return df_unique"
      ]
    },
    {
      "cell_type": "code",
      "execution_count": 43,
      "metadata": {
        "id": "jtjatHj0rT8g"
      },
      "outputs": [],
      "source": [
        "# Gerar as estatísticas\n",
        "unified_data = remove_duplicates(unified_data, 'video_id', 'published_at')"
      ]
    },
    {
      "cell_type": "code",
      "execution_count": 44,
      "metadata": {},
      "outputs": [],
      "source": [
        "unified_data = unified_data.dropna(subset=[\"video_id\", \"description\", \"published_at\", \"channel_id\", \"title\"])"
      ]
    },
    {
      "cell_type": "code",
      "execution_count": 45,
      "metadata": {},
      "outputs": [
        {
          "name": "stdout",
          "output_type": "stream",
          "text": [
            "<class 'pandas.core.frame.DataFrame'>\n",
            "Index: 447 entries, 0 to 446\n",
            "Data columns (total 38 columns):\n",
            " #   Column                     Non-Null Count  Dtype  \n",
            "---  ------                     --------------  -----  \n",
            " 0   Unnamed: 0.1               203 non-null    float64\n",
            " 1   Unnamed: 0                 203 non-null    float64\n",
            " 2   video_id                   447 non-null    object \n",
            " 3   title                      447 non-null    object \n",
            " 4   description                447 non-null    object \n",
            " 5   channel_id                 447 non-null    object \n",
            " 6   published_at               447 non-null    object \n",
            " 7   category_id                447 non-null    int64  \n",
            " 8   tags                       447 non-null    object \n",
            " 9   view_count                 447 non-null    int64  \n",
            " 10  like_count                 447 non-null    int64  \n",
            " 11  comment_count              447 non-null    int64  \n",
            " 12  duration                   447 non-null    object \n",
            " 13  definition                 447 non-null    object \n",
            " 14  caption                    447 non-null    bool   \n",
            " 15  licensed_content           447 non-null    bool   \n",
            " 16  privacy_status             447 non-null    object \n",
            " 17  license                    447 non-null    object \n",
            " 18  embeddable                 447 non-null    bool   \n",
            " 19  public_stats_viewable      447 non-null    bool   \n",
            " 20  is_made_for_kids           447 non-null    bool   \n",
            " 21  thumbnail_url              447 non-null    object \n",
            " 22  default_audio_language     376 non-null    object \n",
            " 23  default_language           111 non-null    object \n",
            " 24  actual_start_time          40 non-null     object \n",
            " 25  scheduled_start_time       40 non-null     object \n",
            " 26  actual_end_time            40 non-null     object \n",
            " 27  scheduled_end_time         0 non-null      float64\n",
            " 28  concurrent_viewers         447 non-null    int64  \n",
            " 29  active_live_chat_id        0 non-null      float64\n",
            " 30  recording_date             46 non-null     object \n",
            " 31  topicCategories            447 non-null    object \n",
            " 32  processing_status          0 non-null      float64\n",
            " 33  parts_total                447 non-null    int64  \n",
            " 34  parts_processed            447 non-null    int64  \n",
            " 35  time_left_ms               447 non-null    int64  \n",
            " 36  processing_failure_reason  0 non-null      float64\n",
            " 37  text                       203 non-null    object \n",
            "dtypes: bool(5), float64(6), int64(8), object(19)\n",
            "memory usage: 120.9+ KB\n"
          ]
        }
      ],
      "source": [
        "unified_data.info()"
      ]
    },
    {
      "cell_type": "code",
      "execution_count": 75,
      "metadata": {},
      "outputs": [],
      "source": [
        "unified_data[\"text\"] = unified_data[\"title\"].fillna('') + \" \" + unified_data[\"description\"].fillna('')"
      ]
    },
    {
      "cell_type": "markdown",
      "metadata": {
        "id": "N7BPfFNqyO7Y"
      },
      "source": [
        "## Filtragem por idioma\n",
        "\n",
        "Apenas comentários em inglês serão utilizados na pesquisa. Não haverá, por agora, uma abordagem multilanguage."
      ]
    },
    {
      "cell_type": "code",
      "execution_count": 76,
      "metadata": {
        "colab": {
          "base_uri": "https://localhost:8080/"
        },
        "id": "KWBEITDCypcT",
        "outputId": "ba20e493-a691-4655-c89e-087e15fe610b"
      },
      "outputs": [
        {
          "name": "stdout",
          "output_type": "stream",
          "text": [
            "Requirement already satisfied: fasttext-wheel in c:\\users\\vmart\\appdata\\local\\packages\\pythonsoftwarefoundation.python.3.11_qbz5n2kfra8p0\\localcache\\local-packages\\python311\\site-packages (0.9.2)\n",
            "Requirement already satisfied: pybind11>=2.2 in c:\\users\\vmart\\appdata\\local\\packages\\pythonsoftwarefoundation.python.3.11_qbz5n2kfra8p0\\localcache\\local-packages\\python311\\site-packages (from fasttext-wheel) (2.13.6)\n",
            "Requirement already satisfied: setuptools>=0.7.0 in c:\\program files\\windowsapps\\pythonsoftwarefoundation.python.3.11_3.11.2544.0_x64__qbz5n2kfra8p0\\lib\\site-packages (from fasttext-wheel) (65.5.0)\n",
            "Requirement already satisfied: numpy in c:\\users\\vmart\\appdata\\local\\packages\\pythonsoftwarefoundation.python.3.11_qbz5n2kfra8p0\\localcache\\local-packages\\python311\\site-packages (from fasttext-wheel) (1.24.4)\n",
            "Note: you may need to restart the kernel to use updated packages.\n"
          ]
        },
        {
          "name": "stderr",
          "output_type": "stream",
          "text": [
            "\n",
            "[notice] A new release of pip is available: 24.0 -> 25.1.1\n",
            "[notice] To update, run: C:\\Users\\vmart\\AppData\\Local\\Microsoft\\WindowsApps\\PythonSoftwareFoundation.Python.3.11_qbz5n2kfra8p0\\python.exe -m pip install --upgrade pip\n"
          ]
        }
      ],
      "source": [
        "# # 1. Instalar FastText\n",
        "%pip install fasttext-wheel\n",
        "\n",
        "# # 2. Importar bibliotecas necessárias\n",
        "import fasttext"
      ]
    },
    {
      "cell_type": "code",
      "execution_count": 77,
      "metadata": {},
      "outputs": [
        {
          "name": "stdout",
          "output_type": "stream",
          "text": [
            "Modelo baixado com sucesso: data/models/lid.176.bin\n"
          ]
        }
      ],
      "source": [
        "# # 3. Baixar o modelo de identificação de idiomas do FastText\n",
        "# # Use the raw file URL to download the binary model directly\n",
        "import requests\n",
        "\n",
        "def download_model(url, output_path):\n",
        "    try:\n",
        "        response = requests.get(url, stream=True)\n",
        "        response.raise_for_status()\n",
        "        with open(output_path, 'wb') as f:\n",
        "            for chunk in response.iter_content(chunk_size=8192):\n",
        "                f.write(chunk)\n",
        "        print(f\"Modelo baixado com sucesso: {output_path}\")\n",
        "    except Exception as e:\n",
        "        print(f\"Erro ao baixar o modelo: {e}\")\n",
        "\n",
        "# # URL do modelo e caminho de saída\n",
        "url = \"https://dl.fbaipublicfiles.com/fasttext/supervised-models/lid.176.bin\"\n",
        "output_path = \"data/models/lid.176.bin\"\n",
        "\n",
        "# # Faz o download do modelo\n",
        "download_model(url, output_path)"
      ]
    },
    {
      "cell_type": "code",
      "execution_count": 78,
      "metadata": {
        "id": "_5xa2WzubVWC"
      },
      "outputs": [],
      "source": [
        "# # Carregae o modelo de linguagem\n",
        "def load_model():\n",
        "    model_path = 'data/models/lid.176.bin'\n",
        "    model = fasttext.load_model(model_path)\n",
        "    return model\n",
        "\n",
        "model = load_model()\n",
        "\n",
        "# # Função para identificar o idioma de um comentário\n",
        "def detect_language(comment):\n",
        "    # Remover quebras de linha\n",
        "    if isinstance(comment, str):\n",
        "      comment = comment.replace('\\n', ' ').strip()  # Remove quebras de linha e espaços extras\n",
        "      prediction = model.predict(comment)\n",
        "      return prediction[0][0]  # Retornar o código do idioma\n",
        "    else:\n",
        "      return ''\n",
        "\n",
        "\n",
        "def filter_by_english(df, verbose=False):\n",
        "  #   # Aplicar a função de detecção de idioma a cada comentário\n",
        "  df['language'] = df['text'].apply(detect_language)\n",
        "\n",
        "  print(df['language'])\n",
        "\n",
        "  # Filtrar os comentários em inglês\n",
        "  english_comments = df[df['language'] == '__label__en']\n",
        "\n",
        "  return english_comments"
      ]
    },
    {
      "cell_type": "code",
      "execution_count": 79,
      "metadata": {
        "colab": {
          "base_uri": "https://localhost:8080/"
        },
        "id": "S6G8dg4MraVm",
        "outputId": "c60dcd95-6234-4bfd-8e94-8dec59d1a253"
      },
      "outputs": [
        {
          "ename": "ValueError",
          "evalue": "Unable to avoid copy while creating an array as requested.\nIf using `np.array(obj, copy=False)` replace it with `np.asarray(obj)` to allow a copy when needed (no behavior change in NumPy 1.x).\nFor more details, see https://numpy.org/devdocs/numpy_2_0_migration_guide.html#adapting-to-changes-in-the-copy-keyword.",
          "output_type": "error",
          "traceback": [
            "\u001b[31m---------------------------------------------------------------------------\u001b[39m",
            "\u001b[31mValueError\u001b[39m                                Traceback (most recent call last)",
            "\u001b[36mCell\u001b[39m\u001b[36m \u001b[39m\u001b[32mIn[79]\u001b[39m\u001b[32m, line 1\u001b[39m\n\u001b[32m----> \u001b[39m\u001b[32m1\u001b[39m unified_data = \u001b[43mfilter_by_english\u001b[49m\u001b[43m(\u001b[49m\u001b[43munified_data\u001b[49m\u001b[43m,\u001b[49m\u001b[43m \u001b[49m\u001b[43mverbose\u001b[49m\u001b[43m=\u001b[49m\u001b[38;5;28;43;01mTrue\u001b[39;49;00m\u001b[43m)\u001b[49m\n\u001b[32m      3\u001b[39m unified_data[[\u001b[33m'\u001b[39m\u001b[33mvideo_id\u001b[39m\u001b[33m'\u001b[39m, \u001b[33m'\u001b[39m\u001b[33mtext\u001b[39m\u001b[33m'\u001b[39m]].sample(\u001b[32m5\u001b[39m)\n",
            "\u001b[36mCell\u001b[39m\u001b[36m \u001b[39m\u001b[32mIn[78]\u001b[39m\u001b[32m, line 22\u001b[39m, in \u001b[36mfilter_by_english\u001b[39m\u001b[34m(df, verbose)\u001b[39m\n\u001b[32m     20\u001b[39m \u001b[38;5;28;01mdef\u001b[39;00m\u001b[38;5;250m \u001b[39m\u001b[34mfilter_by_english\u001b[39m(df, verbose=\u001b[38;5;28;01mFalse\u001b[39;00m):\n\u001b[32m     21\u001b[39m   \u001b[38;5;66;03m#   # Aplicar a função de detecção de idioma a cada comentário\u001b[39;00m\n\u001b[32m---> \u001b[39m\u001b[32m22\u001b[39m   df[\u001b[33m'\u001b[39m\u001b[33mlanguage\u001b[39m\u001b[33m'\u001b[39m] = \u001b[43mdf\u001b[49m\u001b[43m[\u001b[49m\u001b[33;43m'\u001b[39;49m\u001b[33;43mtext\u001b[39;49m\u001b[33;43m'\u001b[39;49m\u001b[43m]\u001b[49m\u001b[43m.\u001b[49m\u001b[43mapply\u001b[49m\u001b[43m(\u001b[49m\u001b[43mdetect_language\u001b[49m\u001b[43m)\u001b[49m\n\u001b[32m     24\u001b[39m   \u001b[38;5;28mprint\u001b[39m(df[\u001b[33m'\u001b[39m\u001b[33mlanguage\u001b[39m\u001b[33m'\u001b[39m])\n\u001b[32m     26\u001b[39m   \u001b[38;5;66;03m# Filtrar os comentários em inglês\u001b[39;00m\n",
            "\u001b[36mFile \u001b[39m\u001b[32m~\\AppData\\Local\\Packages\\PythonSoftwareFoundation.Python.3.11_qbz5n2kfra8p0\\LocalCache\\local-packages\\Python311\\site-packages\\pandas\\core\\series.py:4924\u001b[39m, in \u001b[36mSeries.apply\u001b[39m\u001b[34m(self, func, convert_dtype, args, by_row, **kwargs)\u001b[39m\n\u001b[32m   4789\u001b[39m \u001b[38;5;28;01mdef\u001b[39;00m\u001b[38;5;250m \u001b[39m\u001b[34mapply\u001b[39m(\n\u001b[32m   4790\u001b[39m     \u001b[38;5;28mself\u001b[39m,\n\u001b[32m   4791\u001b[39m     func: AggFuncType,\n\u001b[32m   (...)\u001b[39m\u001b[32m   4796\u001b[39m     **kwargs,\n\u001b[32m   4797\u001b[39m ) -> DataFrame | Series:\n\u001b[32m   4798\u001b[39m \u001b[38;5;250m    \u001b[39m\u001b[33;03m\"\"\"\u001b[39;00m\n\u001b[32m   4799\u001b[39m \u001b[33;03m    Invoke function on values of Series.\u001b[39;00m\n\u001b[32m   4800\u001b[39m \n\u001b[32m   (...)\u001b[39m\u001b[32m   4915\u001b[39m \u001b[33;03m    dtype: float64\u001b[39;00m\n\u001b[32m   4916\u001b[39m \u001b[33;03m    \"\"\"\u001b[39;00m\n\u001b[32m   4917\u001b[39m     \u001b[38;5;28;01mreturn\u001b[39;00m \u001b[43mSeriesApply\u001b[49m\u001b[43m(\u001b[49m\n\u001b[32m   4918\u001b[39m \u001b[43m        \u001b[49m\u001b[38;5;28;43mself\u001b[39;49m\u001b[43m,\u001b[49m\n\u001b[32m   4919\u001b[39m \u001b[43m        \u001b[49m\u001b[43mfunc\u001b[49m\u001b[43m,\u001b[49m\n\u001b[32m   4920\u001b[39m \u001b[43m        \u001b[49m\u001b[43mconvert_dtype\u001b[49m\u001b[43m=\u001b[49m\u001b[43mconvert_dtype\u001b[49m\u001b[43m,\u001b[49m\n\u001b[32m   4921\u001b[39m \u001b[43m        \u001b[49m\u001b[43mby_row\u001b[49m\u001b[43m=\u001b[49m\u001b[43mby_row\u001b[49m\u001b[43m,\u001b[49m\n\u001b[32m   4922\u001b[39m \u001b[43m        \u001b[49m\u001b[43margs\u001b[49m\u001b[43m=\u001b[49m\u001b[43margs\u001b[49m\u001b[43m,\u001b[49m\n\u001b[32m   4923\u001b[39m \u001b[43m        \u001b[49m\u001b[43mkwargs\u001b[49m\u001b[43m=\u001b[49m\u001b[43mkwargs\u001b[49m\u001b[43m,\u001b[49m\n\u001b[32m-> \u001b[39m\u001b[32m4924\u001b[39m \u001b[43m    \u001b[49m\u001b[43m)\u001b[49m\u001b[43m.\u001b[49m\u001b[43mapply\u001b[49m\u001b[43m(\u001b[49m\u001b[43m)\u001b[49m\n",
            "\u001b[36mFile \u001b[39m\u001b[32m~\\AppData\\Local\\Packages\\PythonSoftwareFoundation.Python.3.11_qbz5n2kfra8p0\\LocalCache\\local-packages\\Python311\\site-packages\\pandas\\core\\apply.py:1427\u001b[39m, in \u001b[36mSeriesApply.apply\u001b[39m\u001b[34m(self)\u001b[39m\n\u001b[32m   1424\u001b[39m     \u001b[38;5;28;01mreturn\u001b[39;00m \u001b[38;5;28mself\u001b[39m.apply_compat()\n\u001b[32m   1426\u001b[39m \u001b[38;5;66;03m# self.func is Callable\u001b[39;00m\n\u001b[32m-> \u001b[39m\u001b[32m1427\u001b[39m \u001b[38;5;28;01mreturn\u001b[39;00m \u001b[38;5;28;43mself\u001b[39;49m\u001b[43m.\u001b[49m\u001b[43mapply_standard\u001b[49m\u001b[43m(\u001b[49m\u001b[43m)\u001b[49m\n",
            "\u001b[36mFile \u001b[39m\u001b[32m~\\AppData\\Local\\Packages\\PythonSoftwareFoundation.Python.3.11_qbz5n2kfra8p0\\LocalCache\\local-packages\\Python311\\site-packages\\pandas\\core\\apply.py:1507\u001b[39m, in \u001b[36mSeriesApply.apply_standard\u001b[39m\u001b[34m(self)\u001b[39m\n\u001b[32m   1501\u001b[39m \u001b[38;5;66;03m# row-wise access\u001b[39;00m\n\u001b[32m   1502\u001b[39m \u001b[38;5;66;03m# apply doesn't have a `na_action` keyword and for backward compat reasons\u001b[39;00m\n\u001b[32m   1503\u001b[39m \u001b[38;5;66;03m# we need to give `na_action=\"ignore\"` for categorical data.\u001b[39;00m\n\u001b[32m   1504\u001b[39m \u001b[38;5;66;03m# TODO: remove the `na_action=\"ignore\"` when that default has been changed in\u001b[39;00m\n\u001b[32m   1505\u001b[39m \u001b[38;5;66;03m#  Categorical (GH51645).\u001b[39;00m\n\u001b[32m   1506\u001b[39m action = \u001b[33m\"\u001b[39m\u001b[33mignore\u001b[39m\u001b[33m\"\u001b[39m \u001b[38;5;28;01mif\u001b[39;00m \u001b[38;5;28misinstance\u001b[39m(obj.dtype, CategoricalDtype) \u001b[38;5;28;01melse\u001b[39;00m \u001b[38;5;28;01mNone\u001b[39;00m\n\u001b[32m-> \u001b[39m\u001b[32m1507\u001b[39m mapped = \u001b[43mobj\u001b[49m\u001b[43m.\u001b[49m\u001b[43m_map_values\u001b[49m\u001b[43m(\u001b[49m\n\u001b[32m   1508\u001b[39m \u001b[43m    \u001b[49m\u001b[43mmapper\u001b[49m\u001b[43m=\u001b[49m\u001b[43mcurried\u001b[49m\u001b[43m,\u001b[49m\u001b[43m \u001b[49m\u001b[43mna_action\u001b[49m\u001b[43m=\u001b[49m\u001b[43maction\u001b[49m\u001b[43m,\u001b[49m\u001b[43m \u001b[49m\u001b[43mconvert\u001b[49m\u001b[43m=\u001b[49m\u001b[38;5;28;43mself\u001b[39;49m\u001b[43m.\u001b[49m\u001b[43mconvert_dtype\u001b[49m\n\u001b[32m   1509\u001b[39m \u001b[43m\u001b[49m\u001b[43m)\u001b[49m\n\u001b[32m   1511\u001b[39m \u001b[38;5;28;01mif\u001b[39;00m \u001b[38;5;28mlen\u001b[39m(mapped) \u001b[38;5;129;01mand\u001b[39;00m \u001b[38;5;28misinstance\u001b[39m(mapped[\u001b[32m0\u001b[39m], ABCSeries):\n\u001b[32m   1512\u001b[39m     \u001b[38;5;66;03m# GH#43986 Need to do list(mapped) in order to get treated as nested\u001b[39;00m\n\u001b[32m   1513\u001b[39m     \u001b[38;5;66;03m#  See also GH#25959 regarding EA support\u001b[39;00m\n\u001b[32m   1514\u001b[39m     \u001b[38;5;28;01mreturn\u001b[39;00m obj._constructor_expanddim(\u001b[38;5;28mlist\u001b[39m(mapped), index=obj.index)\n",
            "\u001b[36mFile \u001b[39m\u001b[32m~\\AppData\\Local\\Packages\\PythonSoftwareFoundation.Python.3.11_qbz5n2kfra8p0\\LocalCache\\local-packages\\Python311\\site-packages\\pandas\\core\\base.py:921\u001b[39m, in \u001b[36mIndexOpsMixin._map_values\u001b[39m\u001b[34m(self, mapper, na_action, convert)\u001b[39m\n\u001b[32m    918\u001b[39m \u001b[38;5;28;01mif\u001b[39;00m \u001b[38;5;28misinstance\u001b[39m(arr, ExtensionArray):\n\u001b[32m    919\u001b[39m     \u001b[38;5;28;01mreturn\u001b[39;00m arr.map(mapper, na_action=na_action)\n\u001b[32m--> \u001b[39m\u001b[32m921\u001b[39m \u001b[38;5;28;01mreturn\u001b[39;00m \u001b[43malgorithms\u001b[49m\u001b[43m.\u001b[49m\u001b[43mmap_array\u001b[49m\u001b[43m(\u001b[49m\u001b[43marr\u001b[49m\u001b[43m,\u001b[49m\u001b[43m \u001b[49m\u001b[43mmapper\u001b[49m\u001b[43m,\u001b[49m\u001b[43m \u001b[49m\u001b[43mna_action\u001b[49m\u001b[43m=\u001b[49m\u001b[43mna_action\u001b[49m\u001b[43m,\u001b[49m\u001b[43m \u001b[49m\u001b[43mconvert\u001b[49m\u001b[43m=\u001b[49m\u001b[43mconvert\u001b[49m\u001b[43m)\u001b[49m\n",
            "\u001b[36mFile \u001b[39m\u001b[32m~\\AppData\\Local\\Packages\\PythonSoftwareFoundation.Python.3.11_qbz5n2kfra8p0\\LocalCache\\local-packages\\Python311\\site-packages\\pandas\\core\\algorithms.py:1743\u001b[39m, in \u001b[36mmap_array\u001b[39m\u001b[34m(arr, mapper, na_action, convert)\u001b[39m\n\u001b[32m   1741\u001b[39m values = arr.astype(\u001b[38;5;28mobject\u001b[39m, copy=\u001b[38;5;28;01mFalse\u001b[39;00m)\n\u001b[32m   1742\u001b[39m \u001b[38;5;28;01mif\u001b[39;00m na_action \u001b[38;5;129;01mis\u001b[39;00m \u001b[38;5;28;01mNone\u001b[39;00m:\n\u001b[32m-> \u001b[39m\u001b[32m1743\u001b[39m     \u001b[38;5;28;01mreturn\u001b[39;00m \u001b[43mlib\u001b[49m\u001b[43m.\u001b[49m\u001b[43mmap_infer\u001b[49m\u001b[43m(\u001b[49m\u001b[43mvalues\u001b[49m\u001b[43m,\u001b[49m\u001b[43m \u001b[49m\u001b[43mmapper\u001b[49m\u001b[43m,\u001b[49m\u001b[43m \u001b[49m\u001b[43mconvert\u001b[49m\u001b[43m=\u001b[49m\u001b[43mconvert\u001b[49m\u001b[43m)\u001b[49m\n\u001b[32m   1744\u001b[39m \u001b[38;5;28;01melse\u001b[39;00m:\n\u001b[32m   1745\u001b[39m     \u001b[38;5;28;01mreturn\u001b[39;00m lib.map_infer_mask(\n\u001b[32m   1746\u001b[39m         values, mapper, mask=isna(values).view(np.uint8), convert=convert\n\u001b[32m   1747\u001b[39m     )\n",
            "\u001b[36mFile \u001b[39m\u001b[32mlib.pyx:2972\u001b[39m, in \u001b[36mpandas._libs.lib.map_infer\u001b[39m\u001b[34m()\u001b[39m\n",
            "\u001b[36mCell\u001b[39m\u001b[36m \u001b[39m\u001b[32mIn[78]\u001b[39m\u001b[32m, line 14\u001b[39m, in \u001b[36mdetect_language\u001b[39m\u001b[34m(comment)\u001b[39m\n\u001b[32m     12\u001b[39m \u001b[38;5;28;01mif\u001b[39;00m \u001b[38;5;28misinstance\u001b[39m(comment, \u001b[38;5;28mstr\u001b[39m):\n\u001b[32m     13\u001b[39m   comment = comment.replace(\u001b[33m'\u001b[39m\u001b[38;5;130;01m\\n\u001b[39;00m\u001b[33m'\u001b[39m, \u001b[33m'\u001b[39m\u001b[33m \u001b[39m\u001b[33m'\u001b[39m).strip()  \u001b[38;5;66;03m# Remove quebras de linha e espaços extras\u001b[39;00m\n\u001b[32m---> \u001b[39m\u001b[32m14\u001b[39m   prediction = \u001b[43mmodel\u001b[49m\u001b[43m.\u001b[49m\u001b[43mpredict\u001b[49m\u001b[43m(\u001b[49m\u001b[43mcomment\u001b[49m\u001b[43m)\u001b[49m\n\u001b[32m     15\u001b[39m   \u001b[38;5;28;01mreturn\u001b[39;00m prediction[\u001b[32m0\u001b[39m][\u001b[32m0\u001b[39m]  \u001b[38;5;66;03m# Retornar o código do idioma\u001b[39;00m\n\u001b[32m     16\u001b[39m \u001b[38;5;28;01melse\u001b[39;00m:\n",
            "\u001b[36mFile \u001b[39m\u001b[32m~\\AppData\\Local\\Packages\\PythonSoftwareFoundation.Python.3.11_qbz5n2kfra8p0\\LocalCache\\local-packages\\Python311\\site-packages\\fasttext\\FastText.py:228\u001b[39m, in \u001b[36m_FastText.predict\u001b[39m\u001b[34m(self, text, k, threshold, on_unicode_error)\u001b[39m\n\u001b[32m    225\u001b[39m \u001b[38;5;28;01melse\u001b[39;00m:\n\u001b[32m    226\u001b[39m     probs, labels = ([], ())\n\u001b[32m--> \u001b[39m\u001b[32m228\u001b[39m \u001b[38;5;28;01mreturn\u001b[39;00m labels, \u001b[43mnp\u001b[49m\u001b[43m.\u001b[49m\u001b[43marray\u001b[49m\u001b[43m(\u001b[49m\u001b[43mprobs\u001b[49m\u001b[43m,\u001b[49m\u001b[43m \u001b[49m\u001b[43mcopy\u001b[49m\u001b[43m=\u001b[49m\u001b[38;5;28;43;01mFalse\u001b[39;49;00m\u001b[43m)\u001b[49m\n",
            "\u001b[31mValueError\u001b[39m: Unable to avoid copy while creating an array as requested.\nIf using `np.array(obj, copy=False)` replace it with `np.asarray(obj)` to allow a copy when needed (no behavior change in NumPy 1.x).\nFor more details, see https://numpy.org/devdocs/numpy_2_0_migration_guide.html#adapting-to-changes-in-the-copy-keyword."
          ]
        }
      ],
      "source": [
        "unified_data = filter_by_english(unified_data, verbose=True)\n",
        "\n",
        "unified_data[['video_id', 'text']].sample(5)"
      ]
    },
    {
      "cell_type": "markdown",
      "metadata": {
        "id": "zog_6t6ipTvc"
      },
      "source": [
        "## Limpeza Textual\n"
      ]
    },
    {
      "cell_type": "code",
      "execution_count": 80,
      "metadata": {},
      "outputs": [
        {
          "name": "stdout",
          "output_type": "stream",
          "text": [
            "Removendo duplicatas...\n",
            "Limpando texto...\n",
            "Removendo stopwords...\n",
            "Lematizando...\n",
            "Removendo linhas vazias...\n",
            "Filtrando por tamanho do texto...\n"
          ]
        }
      ],
      "source": [
        "from utils.clean_data import clean_data\n",
        "\n",
        "unified_data = clean_data(unified_data, 'video_id', 'text')"
      ]
    },
    {
      "cell_type": "markdown",
      "metadata": {},
      "source": [
        "## Visualizações"
      ]
    },
    {
      "cell_type": "code",
      "execution_count": 81,
      "metadata": {},
      "outputs": [
        {
          "data": {
            "text/html": [
              "<div>\n",
              "<style scoped>\n",
              "    .dataframe tbody tr th:only-of-type {\n",
              "        vertical-align: middle;\n",
              "    }\n",
              "\n",
              "    .dataframe tbody tr th {\n",
              "        vertical-align: top;\n",
              "    }\n",
              "\n",
              "    .dataframe thead th {\n",
              "        text-align: right;\n",
              "    }\n",
              "</style>\n",
              "<table border=\"1\" class=\"dataframe\">\n",
              "  <thead>\n",
              "    <tr style=\"text-align: right;\">\n",
              "      <th></th>\n",
              "      <th>Unnamed: 0.1</th>\n",
              "      <th>Unnamed: 0</th>\n",
              "      <th>video_id</th>\n",
              "      <th>title</th>\n",
              "      <th>description</th>\n",
              "      <th>channel_id</th>\n",
              "      <th>published_at</th>\n",
              "      <th>category_id</th>\n",
              "      <th>tags</th>\n",
              "      <th>view_count</th>\n",
              "      <th>...</th>\n",
              "      <th>concurrent_viewers</th>\n",
              "      <th>active_live_chat_id</th>\n",
              "      <th>recording_date</th>\n",
              "      <th>topicCategories</th>\n",
              "      <th>processing_status</th>\n",
              "      <th>parts_total</th>\n",
              "      <th>parts_processed</th>\n",
              "      <th>time_left_ms</th>\n",
              "      <th>processing_failure_reason</th>\n",
              "      <th>text</th>\n",
              "    </tr>\n",
              "  </thead>\n",
              "  <tbody>\n",
              "    <tr>\n",
              "      <th>216</th>\n",
              "      <td>216.0</td>\n",
              "      <td>242.0</td>\n",
              "      <td>mlZKX6aUrYs</td>\n",
              "      <td>Hoje em dia, o emocionado pede pra ser corno c...</td>\n",
              "      <td>#rafaelaires #antiotario #redpillbrasil\\n\\n🔥 P...</td>\n",
              "      <td>UCAYoI16-UkXemcnhC-kTvDQ</td>\n",
              "      <td>2025-05-15 21:00:46</td>\n",
              "      <td>22</td>\n",
              "      <td>[]</td>\n",
              "      <td>24726</td>\n",
              "      <td>...</td>\n",
              "      <td>0</td>\n",
              "      <td>NaN</td>\n",
              "      <td>NaN</td>\n",
              "      <td>['https://en.wikipedia.org/wiki/Lifestyle_(soc...</td>\n",
              "      <td>NaN</td>\n",
              "      <td>0</td>\n",
              "      <td>0</td>\n",
              "      <td>0</td>\n",
              "      <td>NaN</td>\n",
              "      <td>hoje em dia emocionado pede pra ser corno com ...</td>\n",
              "    </tr>\n",
              "    <tr>\n",
              "      <th>722</th>\n",
              "      <td>NaN</td>\n",
              "      <td>NaN</td>\n",
              "      <td>wQsocc0h0y8</td>\n",
              "      <td>MULHER FALA SOBRE AS QUE PAGA COISAS PARA OS H...</td>\n",
              "      <td>Olá! seja bem vindo a mais um video do canal, ...</td>\n",
              "      <td>UCRmNflJuD1TxLbRlDV08_7g</td>\n",
              "      <td>2025-05-14 00:59:48</td>\n",
              "      <td>24</td>\n",
              "      <td>['red pill', 'divorcio', 'pensão socio afetiva...</td>\n",
              "      <td>2000</td>\n",
              "      <td>...</td>\n",
              "      <td>0</td>\n",
              "      <td>NaN</td>\n",
              "      <td>NaN</td>\n",
              "      <td>['https://en.wikipedia.org/wiki/Health', 'http...</td>\n",
              "      <td>NaN</td>\n",
              "      <td>0</td>\n",
              "      <td>0</td>\n",
              "      <td>0</td>\n",
              "      <td>NaN</td>\n",
              "      <td>mulher fala sobre que paga coisas para o homen...</td>\n",
              "    </tr>\n",
              "    <tr>\n",
              "      <th>400</th>\n",
              "      <td>400.0</td>\n",
              "      <td>440.0</td>\n",
              "      <td>PnlROGiwzXQ</td>\n",
              "      <td>PAZ! O que o Homem mais quer no casamento. | Q...</td>\n",
              "      <td>#rafaelaires #antiotario #redpillbrasil\\n\\n🔥 P...</td>\n",
              "      <td>UCAYoI16-UkXemcnhC-kTvDQ</td>\n",
              "      <td>2025-05-03 21:00:20</td>\n",
              "      <td>22</td>\n",
              "      <td>[]</td>\n",
              "      <td>47565</td>\n",
              "      <td>...</td>\n",
              "      <td>0</td>\n",
              "      <td>NaN</td>\n",
              "      <td>NaN</td>\n",
              "      <td>['https://en.wikipedia.org/wiki/Lifestyle_(soc...</td>\n",
              "      <td>NaN</td>\n",
              "      <td>0</td>\n",
              "      <td>0</td>\n",
              "      <td>0</td>\n",
              "      <td>NaN</td>\n",
              "      <td>paz que homem mais quer casamento qual sua opi...</td>\n",
              "    </tr>\n",
              "    <tr>\n",
              "      <th>548</th>\n",
              "      <td>NaN</td>\n",
              "      <td>NaN</td>\n",
              "      <td>0KDV-o-hKMA</td>\n",
              "      <td>Levou alimentos pros filhos e a ex reclamou: q...</td>\n",
              "      <td>#rafaelaires #antiotario #redpillbrasil\\n\\n🔥 P...</td>\n",
              "      <td>UCAYoI16-UkXemcnhC-kTvDQ</td>\n",
              "      <td>2025-05-24 21:00:00</td>\n",
              "      <td>22</td>\n",
              "      <td>[]</td>\n",
              "      <td>112</td>\n",
              "      <td>...</td>\n",
              "      <td>0</td>\n",
              "      <td>NaN</td>\n",
              "      <td>NaN</td>\n",
              "      <td>['https://en.wikipedia.org/wiki/Society']</td>\n",
              "      <td>NaN</td>\n",
              "      <td>0</td>\n",
              "      <td>0</td>\n",
              "      <td>0</td>\n",
              "      <td>NaN</td>\n",
              "      <td>levou alimentos pro filhos e ex reclamou queri...</td>\n",
              "    </tr>\n",
              "    <tr>\n",
              "      <th>920</th>\n",
              "      <td>NaN</td>\n",
              "      <td>NaN</td>\n",
              "      <td>on01uAZM4Jw</td>\n",
              "      <td>MULHER FALA QUE É MENTIRA QUE GAROTA DE 20 ANO...</td>\n",
              "      <td>seja bem vindo a mais um vídeo do canal Não se...</td>\n",
              "      <td>UCUBeVY6Kn7ulBmUGynJqISw</td>\n",
              "      <td>2025-05-01 23:56:55</td>\n",
              "      <td>24</td>\n",
              "      <td>['redpill', 'msol', 'miqueinha', 'relacionamen...</td>\n",
              "      <td>840</td>\n",
              "      <td>...</td>\n",
              "      <td>0</td>\n",
              "      <td>NaN</td>\n",
              "      <td>NaN</td>\n",
              "      <td>['https://en.wikipedia.org/wiki/Humour']</td>\n",
              "      <td>NaN</td>\n",
              "      <td>0</td>\n",
              "      <td>0</td>\n",
              "      <td>0</td>\n",
              "      <td>NaN</td>\n",
              "      <td>mulher fala que é mentira que garota de ano go...</td>\n",
              "    </tr>\n",
              "  </tbody>\n",
              "</table>\n",
              "<p>5 rows × 38 columns</p>\n",
              "</div>"
            ],
            "text/plain": [
              "     Unnamed: 0.1  Unnamed: 0     video_id  \\\n",
              "216         216.0       242.0  mlZKX6aUrYs   \n",
              "722           NaN         NaN  wQsocc0h0y8   \n",
              "400         400.0       440.0  PnlROGiwzXQ   \n",
              "548           NaN         NaN  0KDV-o-hKMA   \n",
              "920           NaN         NaN  on01uAZM4Jw   \n",
              "\n",
              "                                                 title  \\\n",
              "216  Hoje em dia, o emocionado pede pra ser corno c...   \n",
              "722  MULHER FALA SOBRE AS QUE PAGA COISAS PARA OS H...   \n",
              "400  PAZ! O que o Homem mais quer no casamento. | Q...   \n",
              "548  Levou alimentos pros filhos e a ex reclamou: q...   \n",
              "920  MULHER FALA QUE É MENTIRA QUE GAROTA DE 20 ANO...   \n",
              "\n",
              "                                           description  \\\n",
              "216  #rafaelaires #antiotario #redpillbrasil\\n\\n🔥 P...   \n",
              "722  Olá! seja bem vindo a mais um video do canal, ...   \n",
              "400  #rafaelaires #antiotario #redpillbrasil\\n\\n🔥 P...   \n",
              "548  #rafaelaires #antiotario #redpillbrasil\\n\\n🔥 P...   \n",
              "920  seja bem vindo a mais um vídeo do canal Não se...   \n",
              "\n",
              "                   channel_id         published_at  category_id  \\\n",
              "216  UCAYoI16-UkXemcnhC-kTvDQ  2025-05-15 21:00:46           22   \n",
              "722  UCRmNflJuD1TxLbRlDV08_7g  2025-05-14 00:59:48           24   \n",
              "400  UCAYoI16-UkXemcnhC-kTvDQ  2025-05-03 21:00:20           22   \n",
              "548  UCAYoI16-UkXemcnhC-kTvDQ  2025-05-24 21:00:00           22   \n",
              "920  UCUBeVY6Kn7ulBmUGynJqISw  2025-05-01 23:56:55           24   \n",
              "\n",
              "                                                  tags  view_count  ...  \\\n",
              "216                                                 []       24726  ...   \n",
              "722  ['red pill', 'divorcio', 'pensão socio afetiva...        2000  ...   \n",
              "400                                                 []       47565  ...   \n",
              "548                                                 []         112  ...   \n",
              "920  ['redpill', 'msol', 'miqueinha', 'relacionamen...         840  ...   \n",
              "\n",
              "     concurrent_viewers  active_live_chat_id recording_date  \\\n",
              "216                   0                  NaN            NaN   \n",
              "722                   0                  NaN            NaN   \n",
              "400                   0                  NaN            NaN   \n",
              "548                   0                  NaN            NaN   \n",
              "920                   0                  NaN            NaN   \n",
              "\n",
              "                                       topicCategories  processing_status  \\\n",
              "216  ['https://en.wikipedia.org/wiki/Lifestyle_(soc...                NaN   \n",
              "722  ['https://en.wikipedia.org/wiki/Health', 'http...                NaN   \n",
              "400  ['https://en.wikipedia.org/wiki/Lifestyle_(soc...                NaN   \n",
              "548          ['https://en.wikipedia.org/wiki/Society']                NaN   \n",
              "920           ['https://en.wikipedia.org/wiki/Humour']                NaN   \n",
              "\n",
              "     parts_total parts_processed time_left_ms  processing_failure_reason  \\\n",
              "216            0               0            0                        NaN   \n",
              "722            0               0            0                        NaN   \n",
              "400            0               0            0                        NaN   \n",
              "548            0               0            0                        NaN   \n",
              "920            0               0            0                        NaN   \n",
              "\n",
              "                                                  text  \n",
              "216  hoje em dia emocionado pede pra ser corno com ...  \n",
              "722  mulher fala sobre que paga coisas para o homen...  \n",
              "400  paz que homem mais quer casamento qual sua opi...  \n",
              "548  levou alimentos pro filhos e ex reclamou queri...  \n",
              "920  mulher fala que é mentira que garota de ano go...  \n",
              "\n",
              "[5 rows x 38 columns]"
            ]
          },
          "execution_count": 81,
          "metadata": {},
          "output_type": "execute_result"
        }
      ],
      "source": [
        "unified_data.sample(5)"
      ]
    },
    {
      "cell_type": "code",
      "execution_count": 82,
      "metadata": {},
      "outputs": [
        {
          "data": {
            "text/plain": [
              "channel_id\n",
              "UCAYoI16-UkXemcnhC-kTvDQ    176\n",
              "UCRmNflJuD1TxLbRlDV08_7g     69\n",
              "UCO9FRrBUwGdYopkMbGGKbpg     46\n",
              "UCeL1a4rpEA8UG9IQIewPccg     41\n",
              "UCUBeVY6Kn7ulBmUGynJqISw     39\n",
              "UCNiU1wZxK6YN-KuJP7QMpBQ     32\n",
              "UCX0VSzJ2z5l0C9wnwh5SoRw     23\n",
              "UC3nQ4xUl6rodOWuQbBULyow     18\n",
              "UCExFA9MsrRmWnXUlhiwu4qA      3\n",
              "Name: count, dtype: int64"
            ]
          },
          "execution_count": 82,
          "metadata": {},
          "output_type": "execute_result"
        }
      ],
      "source": [
        "# Contar a quantidade de vídeos por autor\n",
        "channel_id_counts = unified_data['channel_id'].value_counts()\n",
        "\n",
        "# Selecionar os 10 autores com maior contagem\n",
        "top_10_channel_ids = channel_id_counts.nlargest(10).index\n",
        "\n",
        "# Filtrar o DataFrame mantendo apenas os vídeos desses autores\n",
        "unified_data = unified_data[unified_data['channel_id'].isin(top_10_channel_ids)]\n",
        "\n",
        "unified_data['channel_id'].value_counts()"
      ]
    },
    {
      "cell_type": "markdown",
      "metadata": {},
      "source": [
        "# Exportação de Dados"
      ]
    },
    {
      "cell_type": "code",
      "execution_count": 83,
      "metadata": {
        "id": "uz3OYp3hpWVQ"
      },
      "outputs": [],
      "source": [
        "unified_data.to_csv(f'processed_data_{result_index}/cleaned_videos.csv', encoding='utf-8')"
      ]
    },
    {
      "cell_type": "markdown",
      "metadata": {},
      "source": [
        "## Equivalentes"
      ]
    },
    {
      "cell_type": "code",
      "execution_count": 84,
      "metadata": {},
      "outputs": [],
      "source": [
        "processed_data_dir = f\"processed_data_{result_index}\"\n",
        "os.makedirs(processed_data_dir, exist_ok=True)  # Cria o diretório se não existir\n",
        "\n",
        "results_data_dir = f'results_{result_index}'\n",
        "os.makedirs(results_data_dir, exist_ok=True)  # Cria o diretório se não existir"
      ]
    }
  ],
  "metadata": {
    "colab": {
      "collapsed_sections": [
        "N7BPfFNqyO7Y",
        "zog_6t6ipTvc",
        "1bGe5VUJU8Sp",
        "3aJrG65eEUcY",
        "7pkjogdgQPHU",
        "9s1aCXxA73EF"
      ],
      "provenance": []
    },
    "kernelspec": {
      "display_name": "Python 3",
      "name": "python3"
    },
    "language_info": {
      "codemirror_mode": {
        "name": "ipython",
        "version": 3
      },
      "file_extension": ".py",
      "mimetype": "text/x-python",
      "name": "python",
      "nbconvert_exporter": "python",
      "pygments_lexer": "ipython3",
      "version": "3.11.9"
    }
  },
  "nbformat": 4,
  "nbformat_minor": 0
}
